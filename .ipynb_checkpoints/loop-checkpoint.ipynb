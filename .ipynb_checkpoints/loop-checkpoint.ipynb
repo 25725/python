{
 "cells": [
  {
   "cell_type": "code",
   "execution_count": 3,
   "metadata": {},
   "outputs": [
    {
     "name": "stdout",
     "output_type": "stream",
     "text": [
      "Enter a number121\n",
      "121\n",
      "number is pallindrome\n"
     ]
    }
   ],
   "source": [
    "n=int(input(\"Enter a number\"))\n",
    "a=n\n",
    "rev=0\n",
    "while n >0:\n",
    "    r=n%10\n",
    "    n=n//10\n",
    "    rev=(rev*10)+r\n",
    "print(rev)\n",
    "if a==rev:\n",
    "    print(\"number is pallindrome\")\n",
    "else:\n",
    "    print(\"number is not pallindrome\")"
   ]
  },
  {
   "cell_type": "code",
   "execution_count": 4,
   "metadata": {},
   "outputs": [
    {
     "name": "stdout",
     "output_type": "stream",
     "text": [
      "Enter a number12\n",
      "even\n"
     ]
    }
   ],
   "source": [
    "i=int(input(\"Enter a number\"))\n",
    "while i>0:\n",
    "    i-=2\n",
    "if i==0:\n",
    "    print(\"even\")\n",
    "else:\n",
    "    print(\"odd\")"
   ]
  },
  {
   "cell_type": "code",
   "execution_count": 6,
   "metadata": {},
   "outputs": [
    {
     "name": "stdout",
     "output_type": "stream",
     "text": [
      "0\n",
      "1\n",
      "2\n",
      "3\n",
      "4\n",
      "5\n"
     ]
    }
   ],
   "source": [
    "i=0\n",
    "while i<=10:\n",
    "    print(i)\n",
    "    if i==5:\n",
    "        break\n",
    "    i=i+1    "
   ]
  },
  {
   "cell_type": "code",
   "execution_count": 7,
   "metadata": {},
   "outputs": [
    {
     "name": "stdout",
     "output_type": "stream",
     "text": [
      "5\n",
      "6\n",
      "7\n",
      "8\n",
      "9\n",
      "done\n"
     ]
    }
   ],
   "source": [
    "while i<10:\n",
    "    print(i)\n",
    "    i=i+1\n",
    "else:\n",
    "    print(\"done\")"
   ]
  },
  {
   "cell_type": "code",
   "execution_count": 8,
   "metadata": {},
   "outputs": [
    {
     "name": "stdout",
     "output_type": "stream",
     "text": [
      "done\n"
     ]
    }
   ],
   "source": [
    "while i<10:\n",
    "    print(i)\n",
    "    i=i+1\n",
    "    break\n",
    "else:\n",
    "    print(\"done\")"
   ]
  },
  {
   "cell_type": "code",
   "execution_count": 18,
   "metadata": {},
   "outputs": [
    {
     "name": "stdout",
     "output_type": "stream",
     "text": [
      "[26, 49, 74, 32, 95, 63, 47, 52, 22, 73]\n"
     ]
    }
   ],
   "source": [
    "from random import randint\n",
    "l=[]\n",
    "i=0\n",
    "while i<10:\n",
    "    l.append(randint(1,100))\n",
    "    i=i+1\n",
    "print(l)"
   ]
  },
  {
   "cell_type": "code",
   "execution_count": 19,
   "metadata": {},
   "outputs": [
    {
     "name": "stdout",
     "output_type": "stream",
     "text": [
      "[49, 95, 63, 47, 73]\n"
     ]
    }
   ],
   "source": [
    "i=0\n",
    "while i<len(l):\n",
    "    if l[i]%2==0:\n",
    "        l.remove(l[i])\n",
    "    else:\n",
    "        i+=1\n",
    "print(l)"
   ]
  },
  {
   "cell_type": "code",
   "execution_count": 1,
   "metadata": {},
   "outputs": [
    {
     "name": "stdout",
     "output_type": "stream",
     "text": [
      "Enter any stringabcde\n",
      "Enter any characterc\n",
      "abccde\n"
     ]
    }
   ],
   "source": [
    "str=input(\"Enter any string\")\n",
    "i=0\n",
    "l=list(str)\n",
    "c=input(\"Enter any character\")\n",
    "while i<len(l):\n",
    "    if c==l[0]:\n",
    "        l.append(c)\n",
    "        break\n",
    "    elif c==l[1]:\n",
    "        l.insert(-1,c)\n",
    "        break\n",
    "    elif c==l[2]:\n",
    "        l.insert(-2,c)\n",
    "        break\n",
    "print(''.join(l))\n",
    "        \n",
    "\n"
   ]
  },
  {
   "cell_type": "code",
   "execution_count": 1,
   "metadata": {},
   "outputs": [
    {
     "name": "stdout",
     "output_type": "stream",
     "text": [
      "Enter length of list6\n",
      "Enter number23\n",
      "Enter number5\n",
      "Enter number62\n",
      "Enter number72\n",
      "Enter number22\n",
      "Enter number89\n",
      "[23, 5, 62, 72, 22, 89]\n",
      "enter number to count2\n",
      "5\n"
     ]
    }
   ],
   "source": [
    "# count the particular number from the list\n",
    "length=int(input(\"Enter length of list\"))\n",
    "k=0\n",
    "l=[]\n",
    "while k<length:\n",
    "    l.append(int(input(\"Enter number\")))\n",
    "    k=k+1\n",
    "print(l)\n",
    "b=int(input(\"enter number to count\"))\n",
    "i=0\n",
    "c=0\n",
    "while i<len(l):\n",
    "    j=l[i]\n",
    "    while j>0:\n",
    "        a=j%10\n",
    "        j//=10\n",
    "        if a==b:\n",
    "            c+=1\n",
    "    i+=1\n",
    "print(c)"
   ]
  },
  {
   "cell_type": "code",
   "execution_count": 2,
   "metadata": {},
   "outputs": [
    {
     "data": {
      "text/plain": [
       "2"
      ]
     },
     "execution_count": 2,
     "metadata": {},
     "output_type": "execute_result"
    }
   ],
   "source": [
    "22//10"
   ]
  },
  {
   "cell_type": "code",
   "execution_count": 3,
   "metadata": {},
   "outputs": [
    {
     "data": {
      "text/plain": [
       "8"
      ]
     },
     "execution_count": 3,
     "metadata": {},
     "output_type": "execute_result"
    }
   ],
   "source": [
    "33//4"
   ]
  },
  {
   "cell_type": "code",
   "execution_count": 1,
   "metadata": {},
   "outputs": [
    {
     "name": "stdout",
     "output_type": "stream",
     "text": [
      "Enter a stringabcad\n",
      "Enter a charactera\n",
      "abcada\n"
     ]
    }
   ],
   "source": [
    "str=input(\"Enter a string\")\n",
    "l=list(str)\n",
    "i=0\n",
    "a=input(\"Enter a character\")\n",
    "while i<(len(l)-1):\n",
    "    if a==l[0]:\n",
    "        l.append(a)\n",
    "        break\n",
    "    elif a==l[i]:\n",
    "        l.insert((~i)+1,a)\n",
    "        break\n",
    "    i+=1\n",
    "str=''.join(l)\n",
    "print(str)"
   ]
  },
  {
   "cell_type": "code",
   "execution_count": 2,
   "metadata": {},
   "outputs": [],
   "source": [
    "a=\"abcd\""
   ]
  },
  {
   "cell_type": "code",
   "execution_count": 3,
   "metadata": {},
   "outputs": [
    {
     "name": "stdout",
     "output_type": "stream",
     "text": [
      "Enter characterb\n",
      "abcbd\n"
     ]
    }
   ],
   "source": [
    "v=input(\"Enter character\")\n",
    "l=list(a)\n",
    "i=l.index(v)\n",
    "l=l[::-1]\n",
    "l.insert(i,v)\n",
    "print(\"\".join(l[::-1]))"
   ]
  },
  {
   "cell_type": "code",
   "execution_count": null,
   "metadata": {},
   "outputs": [],
   "source": []
  },
  {
   "cell_type": "code",
   "execution_count": 5,
   "metadata": {},
   "outputs": [
    {
     "ename": "TypeError",
     "evalue": "'str' object is not callable",
     "output_type": "error",
     "traceback": [
      "\u001b[1;31m---------------------------------------------------------------------------\u001b[0m",
      "\u001b[1;31mTypeError\u001b[0m                                 Traceback (most recent call last)",
      "\u001b[1;32m<ipython-input-5-a029f67c51cb>\u001b[0m in \u001b[0;36m<module>\u001b[1;34m\u001b[0m\n\u001b[0;32m      1\u001b[0m \u001b[0ml\u001b[0m\u001b[1;33m=\u001b[0m\u001b[1;33m[\u001b[0m\u001b[1;36m1\u001b[0m\u001b[1;33m,\u001b[0m\u001b[1;36m2\u001b[0m\u001b[1;33m,\u001b[0m\u001b[1;36m22\u001b[0m\u001b[1;33m,\u001b[0m\u001b[1;36m56\u001b[0m\u001b[1;33m,\u001b[0m\u001b[1;36m89\u001b[0m\u001b[1;33m]\u001b[0m\u001b[1;33m\u001b[0m\u001b[1;33m\u001b[0m\u001b[0m\n\u001b[1;32m----> 2\u001b[1;33m \u001b[0ms\u001b[0m\u001b[1;33m=\u001b[0m\u001b[0mstr\u001b[0m\u001b[1;33m(\u001b[0m\u001b[0ml\u001b[0m\u001b[1;33m)\u001b[0m\u001b[1;33m\u001b[0m\u001b[1;33m\u001b[0m\u001b[0m\n\u001b[0m\u001b[0;32m      3\u001b[0m \u001b[0ms\u001b[0m\u001b[1;33m.\u001b[0m\u001b[0mcount\u001b[0m\u001b[1;33m(\u001b[0m\u001b[1;34m\"2\"\u001b[0m\u001b[1;33m)\u001b[0m\u001b[1;33m\u001b[0m\u001b[1;33m\u001b[0m\u001b[0m\n",
      "\u001b[1;31mTypeError\u001b[0m: 'str' object is not callable"
     ]
    }
   ],
   "source": [
    "l=[1,2,22,56,89]\n",
    "s=str(l)\n",
    "s.count(\"2\")"
   ]
  },
  {
   "cell_type": "code",
   "execution_count": 6,
   "metadata": {},
   "outputs": [
    {
     "ename": "TypeError",
     "evalue": "'str' object is not callable",
     "output_type": "error",
     "traceback": [
      "\u001b[1;31m---------------------------------------------------------------------------\u001b[0m",
      "\u001b[1;31mTypeError\u001b[0m                                 Traceback (most recent call last)",
      "\u001b[1;32m<ipython-input-6-a029f67c51cb>\u001b[0m in \u001b[0;36m<module>\u001b[1;34m\u001b[0m\n\u001b[0;32m      1\u001b[0m \u001b[0ml\u001b[0m\u001b[1;33m=\u001b[0m\u001b[1;33m[\u001b[0m\u001b[1;36m1\u001b[0m\u001b[1;33m,\u001b[0m\u001b[1;36m2\u001b[0m\u001b[1;33m,\u001b[0m\u001b[1;36m22\u001b[0m\u001b[1;33m,\u001b[0m\u001b[1;36m56\u001b[0m\u001b[1;33m,\u001b[0m\u001b[1;36m89\u001b[0m\u001b[1;33m]\u001b[0m\u001b[1;33m\u001b[0m\u001b[1;33m\u001b[0m\u001b[0m\n\u001b[1;32m----> 2\u001b[1;33m \u001b[0ms\u001b[0m\u001b[1;33m=\u001b[0m\u001b[0mstr\u001b[0m\u001b[1;33m(\u001b[0m\u001b[0ml\u001b[0m\u001b[1;33m)\u001b[0m\u001b[1;33m\u001b[0m\u001b[1;33m\u001b[0m\u001b[0m\n\u001b[0m\u001b[0;32m      3\u001b[0m \u001b[0ms\u001b[0m\u001b[1;33m.\u001b[0m\u001b[0mcount\u001b[0m\u001b[1;33m(\u001b[0m\u001b[1;34m\"2\"\u001b[0m\u001b[1;33m)\u001b[0m\u001b[1;33m\u001b[0m\u001b[1;33m\u001b[0m\u001b[0m\n",
      "\u001b[1;31mTypeError\u001b[0m: 'str' object is not callable"
     ]
    }
   ],
   "source": [
    "l=[1,2,22,56,89]\n",
    "s=str(l)\n",
    "s.count(\"2\")\n"
   ]
  },
  {
   "cell_type": "code",
   "execution_count": 10,
   "metadata": {},
   "outputs": [
    {
     "name": "stdout",
     "output_type": "stream",
     "text": [
      "h\n",
      "e\n",
      "l\n",
      "l\n",
      "o\n",
      " \n",
      "w\n",
      "o\n",
      "r\n",
      "l\n",
      "d\n"
     ]
    }
   ],
   "source": [
    "from time import sleep \n",
    "s=\"hello world\"\n",
    "for char in s:\n",
    "    sleep(0.5)\n",
    "    print(char)"
   ]
  },
  {
   "cell_type": "code",
   "execution_count": 11,
   "metadata": {},
   "outputs": [],
   "source": [
    "l=list(range(1,11))"
   ]
  },
  {
   "cell_type": "code",
   "execution_count": 12,
   "metadata": {},
   "outputs": [
    {
     "data": {
      "text/plain": [
       "[1, 2, 3, 4, 5, 6, 7, 8, 9, 10]"
      ]
     },
     "execution_count": 12,
     "metadata": {},
     "output_type": "execute_result"
    }
   ],
   "source": [
    "l"
   ]
  },
  {
   "cell_type": "code",
   "execution_count": 13,
   "metadata": {},
   "outputs": [
    {
     "name": "stdout",
     "output_type": "stream",
     "text": [
      "1\n",
      "2\n",
      "3\n",
      "4\n",
      "5\n",
      "6\n",
      "7\n",
      "8\n",
      "9\n",
      "10\n"
     ]
    }
   ],
   "source": [
    "for var in range(1,11):\n",
    "    print(var)"
   ]
  },
  {
   "cell_type": "code",
   "execution_count": 15,
   "metadata": {},
   "outputs": [
    {
     "name": "stdout",
     "output_type": "stream",
     "text": [
      "5\n",
      "5 X 1= 5\n",
      "5 X 2= 10\n",
      "5 X 3= 15\n",
      "5 X 4= 20\n",
      "5 X 5= 25\n",
      "5 X 6= 30\n",
      "5 X 7= 35\n",
      "5 X 8= 40\n",
      "5 X 9= 45\n",
      "5 X 10= 50\n"
     ]
    }
   ],
   "source": [
    "n=int(input())\n",
    "for var in range(1,11):\n",
    "    print(f\"{n} X {var}=\",n*var)"
   ]
  },
  {
   "cell_type": "code",
   "execution_count": 16,
   "metadata": {},
   "outputs": [],
   "source": [
    "d={\"one\":1,\"two\":2}\n"
   ]
  },
  {
   "cell_type": "code",
   "execution_count": 17,
   "metadata": {},
   "outputs": [
    {
     "name": "stdout",
     "output_type": "stream",
     "text": [
      "one\n",
      "two\n"
     ]
    }
   ],
   "source": [
    "for var in d:\n",
    "    print(var)"
   ]
  },
  {
   "cell_type": "code",
   "execution_count": 20,
   "metadata": {},
   "outputs": [
    {
     "name": "stdout",
     "output_type": "stream",
     "text": [
      "one-->1\n",
      "two-->2\n"
     ]
    }
   ],
   "source": [
    "for key,value in d.items():\n",
    "    print(f\"{key}-->{value}\")"
   ]
  },
  {
   "cell_type": "code",
   "execution_count": 21,
   "metadata": {},
   "outputs": [
    {
     "name": "stdout",
     "output_type": "stream",
     "text": [
      "[2, 5, 8, 56, 1]\n",
      "sum = 72\n"
     ]
    }
   ],
   "source": [
    "l=['2','5','8','56','1']\n",
    "for i in l:\n",
    "    l[l.index(i)]=int(l[l.index(i)])\n",
    "print(l)\n",
    "sum=0\n",
    "for i in l:\n",
    "    sum+=i\n",
    "print(\"sum =\",sum)"
   ]
  },
  {
   "cell_type": "code",
   "execution_count": 23,
   "metadata": {},
   "outputs": [
    {
     "name": "stdout",
     "output_type": "stream",
     "text": [
      "enter length of the list3\n",
      "Enter 1 element1\n",
      "Enter 2 elementishank\n",
      "Enter 3 element56\n",
      "['1', 'ishank', '56']\n",
      "[1, 'ishank', 56]\n"
     ]
    }
   ],
   "source": [
    "l=[]\n",
    "n=int(input(\"enter length of the list\"))\n",
    "for i in range(0,n):\n",
    "    l.append(input(f\"Enter {i+1} element\"))\n",
    "print(l)\n",
    "for i in l:\n",
    "    if i.isnumeric():\n",
    "        l[l.index(i)]=int(l[l.index(i)])\n",
    "print(l)"
   ]
  },
  {
   "cell_type": "code",
   "execution_count": 4,
   "metadata": {},
   "outputs": [
    {
     "name": "stdout",
     "output_type": "stream",
     "text": [
      "enter length of the list6\n",
      "Enter 1 element12\n",
      "Enter 2 element56\n",
      "Enter 3 element32\n",
      "Enter 4 element124\n",
      "Enter 5 element89\n",
      "Enter 6 element1\n",
      "[12, 56, 32, 124, 89, 1]\n",
      "[1, 12, 32, 56, 89, 124]\n"
     ]
    }
   ],
   "source": [
    "l=[]\n",
    "n=int(input(\"enter length of the list\"))\n",
    "for i in range(0,n):\n",
    "    l.append(int(input(f\"Enter {i+1} element\")))\n",
    "print(l)\n",
    "for i in range(0,len(l)):\n",
    "    for j in range(1,len(l)-i):\n",
    "        if l[j-1]>l[j]:\n",
    "            t=l[j-1]\n",
    "            l[j-1]=l[j]\n",
    "            l[j]=t\n",
    "print(l)\n",
    "    "
   ]
  },
  {
   "cell_type": "code",
   "execution_count": 7,
   "metadata": {},
   "outputs": [
    {
     "name": "stdout",
     "output_type": "stream",
     "text": [
      "enter length of the list4\n",
      "Enter 1 element12\n",
      "Enter 2 element45\n",
      "Enter 3 element67\n",
      "Enter 4 element11\n",
      "[12, 45, 67, 11]\n",
      "min is 11 and max is 67\n"
     ]
    }
   ],
   "source": [
    "l=[]\n",
    "n=int(input(\"enter length of the list\"))\n",
    "for i in range(0,n):\n",
    "    l.append(int(input(f\"Enter {i+1} element\")))\n",
    "print(l)\n",
    "mn=l[0]\n",
    "mx=l[0]\n",
    "for i in range(0,len(l)):\n",
    "    if mn>l[i]:\n",
    "        mn=l[i]\n",
    "    if mx<l[i]:\n",
    "        mx=l[i]\n",
    "print(f\"min is {mn} and max is {mx}\")"
   ]
  },
  {
   "cell_type": "code",
   "execution_count": 9,
   "metadata": {},
   "outputs": [
    {
     "name": "stdout",
     "output_type": "stream",
     "text": [
      "2\n",
      "2\n",
      "2\n",
      "1\n"
     ]
    }
   ],
   "source": [
    "l=[1,1.2,2,2.5,(3+5j),\"hello\",\"bye\"]\n",
    "i=0\n",
    "f=0\n",
    "s=0\n",
    "c=0\n",
    "for var in l:\n",
    "    if type(var)==int:\n",
    "        i+=1\n",
    "    elif type(var)==float:\n",
    "        f+=1\n",
    "    elif type(var)==complex:\n",
    "        c+=1\n",
    "    elif type(var)==str:\n",
    "        s+=1\n",
    "    else:\n",
    "        print(\"run\")\n",
    "print(i)\n",
    "print(f)\n",
    "print(s)\n",
    "print(c)\n",
    "        "
   ]
  },
  {
   "cell_type": "code",
   "execution_count": 13,
   "metadata": {},
   "outputs": [
    {
     "name": "stdout",
     "output_type": "stream",
     "text": [
      "[1, 12, 2, 25, 'hello', 'bye']\n"
     ]
    }
   ],
   "source": [
    "l=['1','12','2','25',\"hello\",\"bye\"]\n",
    "for i in range(len(l)):\n",
    "    if l[i].isdecimal():\n",
    "        l[i]=int(l[i])\n",
    "print(l)\n",
    "    "
   ]
  },
  {
   "cell_type": "code",
   "execution_count": 35,
   "metadata": {},
   "outputs": [
    {
     "name": "stdout",
     "output_type": "stream",
     "text": [
      "[78, 62]\n"
     ]
    }
   ],
   "source": [
    "l=[23,45,78,62,79]\n",
    "lc= l.copy()\n",
    "for var in lc:\n",
    "    if var%2!=0:\n",
    "        l.remove(var)\n",
    "print(l)        \n",
    "        "
   ]
  },
  {
   "cell_type": "code",
   "execution_count": 33,
   "metadata": {},
   "outputs": [
    {
     "data": {
      "text/plain": [
       "[45, 78, 62]"
      ]
     },
     "execution_count": 33,
     "metadata": {},
     "output_type": "execute_result"
    }
   ],
   "source": [
    "l\n"
   ]
  },
  {
   "cell_type": "code",
   "execution_count": 36,
   "metadata": {},
   "outputs": [
    {
     "name": "stdout",
     "output_type": "stream",
     "text": [
      "[(0, 1), (1, 2), (2, 4), (3, 5), (4, 6), (5, 7)]\n"
     ]
    }
   ],
   "source": [
    "l=[1,2,4,5,6,7]\n",
    "l1=[]\n",
    "for i in l:\n",
    "    l1.append((l.index(i),i))\n",
    "print(l1)"
   ]
  },
  {
   "cell_type": "code",
   "execution_count": 38,
   "metadata": {},
   "outputs": [
    {
     "name": "stdout",
     "output_type": "stream",
     "text": [
      "[(2, 1), (3, 2), (7, 3), (5, 4)]\n"
     ]
    }
   ],
   "source": [
    "l1=[2,3,7,5,9]\n",
    "l2=[1,2,3,4]\n",
    "l3=[]\n",
    "for i in range(0,min(len(l1),len(l2))):\n",
    "    l3.append((l1[i],l2[i]))\n",
    "print(l3)"
   ]
  },
  {
   "cell_type": "code",
   "execution_count": 40,
   "metadata": {},
   "outputs": [
    {
     "name": "stdout",
     "output_type": "stream",
     "text": [
      "0\n",
      "1\n",
      "2\n",
      "3\n",
      "4\n",
      "5\n"
     ]
    }
   ],
   "source": [
    "for var in range(0,10):\n",
    "    print(var)\n",
    "    if var==5:\n",
    "        break \n",
    "else:\n",
    "    print(\"done\")"
   ]
  },
  {
   "cell_type": "code",
   "execution_count": 5,
   "metadata": {},
   "outputs": [],
   "source": []
  },
  {
   "cell_type": "code",
   "execution_count": 6,
   "metadata": {},
   "outputs": [
    {
     "data": {
      "text/plain": [
       "{'one': 1, 'two': 2}"
      ]
     },
     "execution_count": 6,
     "metadata": {},
     "output_type": "execute_result"
    }
   ],
   "source": []
  },
  {
   "cell_type": "code",
   "execution_count": 8,
   "metadata": {},
   "outputs": [
    {
     "name": "stdout",
     "output_type": "stream",
     "text": [
      "1\n",
      "2\n",
      "3\n",
      "4\n",
      "5\n",
      "6\n",
      "7\n",
      "8\n",
      "9\n",
      "10\n"
     ]
    }
   ],
   "source": [
    "l={1,2,3,4,5,6,7,8,9,10}\n",
    "z=iter(l)\n",
    "for var in z:\n",
    "    print(var)"
   ]
  },
  {
   "cell_type": "code",
   "execution_count": 9,
   "metadata": {},
   "outputs": [],
   "source": [
    "for var in z:\n",
    "    print(var)"
   ]
  },
  {
   "cell_type": "code",
   "execution_count": 10,
   "metadata": {},
   "outputs": [
    {
     "name": "stdout",
     "output_type": "stream",
     "text": [
      "1\n",
      "2\n",
      "3\n",
      "4\n",
      "5\n",
      "6\n",
      "7\n",
      "8\n",
      "9\n",
      "10\n"
     ]
    }
   ],
   "source": [
    "l={1,2,3,4,5,6,7,8,9,10}\n",
    "z=iter(l)\n",
    "for var in z:\n",
    "    print(var)"
   ]
  },
  {
   "cell_type": "code",
   "execution_count": 2,
   "metadata": {},
   "outputs": [
    {
     "ename": "NameError",
     "evalue": "name 'z' is not defined",
     "output_type": "error",
     "traceback": [
      "\u001b[1;31m---------------------------------------------------------------------------\u001b[0m",
      "\u001b[1;31mNameError\u001b[0m                                 Traceback (most recent call last)",
      "\u001b[1;32m<ipython-input-2-4ab8627446cf>\u001b[0m in \u001b[0;36m<module>\u001b[1;34m\u001b[0m\n\u001b[0;32m      1\u001b[0m \u001b[1;32mwhile\u001b[0m \u001b[1;32mTrue\u001b[0m\u001b[1;33m:\u001b[0m\u001b[1;33m\u001b[0m\u001b[1;33m\u001b[0m\u001b[0m\n\u001b[1;32m----> 2\u001b[1;33m     \u001b[0mprint\u001b[0m\u001b[1;33m(\u001b[0m\u001b[0mz\u001b[0m\u001b[1;33m[\u001b[0m\u001b[0mi\u001b[0m\u001b[1;33m]\u001b[0m\u001b[1;33m)\u001b[0m\u001b[1;33m\u001b[0m\u001b[1;33m\u001b[0m\u001b[0m\n\u001b[0m",
      "\u001b[1;31mNameError\u001b[0m: name 'z' is not defined"
     ]
    }
   ],
   "source": [
    "while True:\n",
    "    print(z[i])"
   ]
  },
  {
   "cell_type": "code",
   "execution_count": 5,
   "metadata": {},
   "outputs": [
    {
     "name": "stdout",
     "output_type": "stream",
     "text": [
      "\n",
      "1\n",
      "22\n",
      "333\n",
      "4444\n",
      "55555\n"
     ]
    }
   ],
   "source": [
    "for var in range(0,6):\n",
    "    print(f\"{var}\"*var)\n",
    "\n"
   ]
  },
  {
   "cell_type": "code",
   "execution_count": 6,
   "metadata": {},
   "outputs": [],
   "source": [
    "quit()\n"
   ]
  },
  {
   "cell_type": "code",
   "execution_count": 8,
   "metadata": {},
   "outputs": [],
   "source": [
    "z=enumerate(\"abcdjksdc\")\n"
   ]
  },
  {
   "cell_type": "code",
   "execution_count": 9,
   "metadata": {},
   "outputs": [
    {
     "name": "stdout",
     "output_type": "stream",
     "text": [
      "(0, 'a')\n",
      "(1, 'b')\n",
      "(2, 'c')\n",
      "(3, 'd')\n",
      "(4, 'j')\n",
      "(5, 'k')\n",
      "(6, 's')\n",
      "(7, 'd')\n",
      "(8, 'c')\n"
     ]
    }
   ],
   "source": [
    "for var in z:\n",
    "    print(var)"
   ]
  },
  {
   "cell_type": "code",
   "execution_count": 11,
   "metadata": {},
   "outputs": [
    {
     "name": "stdout",
     "output_type": "stream",
     "text": [
      "hello\n"
     ]
    }
   ],
   "source": [
    "exec(\"print('hello')\")"
   ]
  },
  {
   "cell_type": "code",
   "execution_count": 12,
   "metadata": {},
   "outputs": [
    {
     "name": "stdout",
     "output_type": "stream",
     "text": [
      "'\\n'\n"
     ]
    }
   ],
   "source": [
    "print(repr(\"\\n\"))"
   ]
  },
  {
   "cell_type": "code",
   "execution_count": 13,
   "metadata": {},
   "outputs": [
    {
     "name": "stdout",
     "output_type": "stream",
     "text": [
      "\n",
      "\n"
     ]
    }
   ],
   "source": [
    "print(\"\\n\")"
   ]
  },
  {
   "cell_type": "code",
   "execution_count": 14,
   "metadata": {},
   "outputs": [
    {
     "name": "stdout",
     "output_type": "stream",
     "text": [
      "\n",
      "\n",
      "\n"
     ]
    }
   ],
   "source": [
    "print(\"\\n\\n\")"
   ]
  },
  {
   "cell_type": "code",
   "execution_count": 15,
   "metadata": {},
   "outputs": [
    {
     "data": {
      "text/plain": [
       "25"
      ]
     },
     "execution_count": 15,
     "metadata": {},
     "output_type": "execute_result"
    }
   ],
   "source": [
    "round(25.234567)"
   ]
  },
  {
   "cell_type": "code",
   "execution_count": 16,
   "metadata": {},
   "outputs": [
    {
     "data": {
      "text/plain": [
       "True"
      ]
     },
     "execution_count": 16,
     "metadata": {},
     "output_type": "execute_result"
    }
   ],
   "source": [
    "a=5\n",
    "isinstance(a,int)"
   ]
  },
  {
   "cell_type": "code",
   "execution_count": 17,
   "metadata": {},
   "outputs": [
    {
     "data": {
      "text/plain": [
       "'0o5'"
      ]
     },
     "execution_count": 17,
     "metadata": {},
     "output_type": "execute_result"
    }
   ],
   "source": [
    "oct(5)"
   ]
  },
  {
   "cell_type": "code",
   "execution_count": 18,
   "metadata": {},
   "outputs": [
    {
     "data": {
      "text/plain": [
       "65"
      ]
     },
     "execution_count": 18,
     "metadata": {},
     "output_type": "execute_result"
    }
   ],
   "source": [
    "ord(\"A\")"
   ]
  },
  {
   "cell_type": "code",
   "execution_count": 19,
   "metadata": {},
   "outputs": [
    {
     "data": {
      "text/plain": [
       "101"
      ]
     },
     "execution_count": 19,
     "metadata": {},
     "output_type": "execute_result"
    }
   ],
   "source": [
    "ord(\"e\")"
   ]
  },
  {
   "cell_type": "code",
   "execution_count": 20,
   "metadata": {},
   "outputs": [
    {
     "data": {
      "text/plain": [
       "512"
      ]
     },
     "execution_count": 20,
     "metadata": {},
     "output_type": "execute_result"
    }
   ],
   "source": [
    "pow(2,9)"
   ]
  },
  {
   "cell_type": "code",
   "execution_count": 21,
   "metadata": {},
   "outputs": [
    {
     "data": {
      "text/plain": [
       "512"
      ]
     },
     "execution_count": 21,
     "metadata": {},
     "output_type": "execute_result"
    }
   ],
   "source": [
    "2**9"
   ]
  },
  {
   "cell_type": "code",
   "execution_count": 22,
   "metadata": {},
   "outputs": [
    {
     "data": {
      "text/plain": [
       "512.0"
      ]
     },
     "execution_count": 22,
     "metadata": {},
     "output_type": "execute_result"
    }
   ],
   "source": [
    "from math import pow\n",
    "pow(2,9)"
   ]
  },
  {
   "cell_type": "code",
   "execution_count": 23,
   "metadata": {},
   "outputs": [
    {
     "data": {
      "text/plain": [
       "41"
      ]
     },
     "execution_count": 23,
     "metadata": {},
     "output_type": "execute_result"
    }
   ],
   "source": [
    "abs(35+6)"
   ]
  },
  {
   "cell_type": "code",
   "execution_count": 24,
   "metadata": {},
   "outputs": [
    {
     "data": {
      "text/plain": [
       "35.22782990761707"
      ]
     },
     "execution_count": 24,
     "metadata": {},
     "output_type": "execute_result"
    }
   ],
   "source": [
    "abs(35+4j)"
   ]
  },
  {
   "cell_type": "code",
   "execution_count": 27,
   "metadata": {},
   "outputs": [
    {
     "data": {
      "text/plain": [
       "True"
      ]
     },
     "execution_count": 27,
     "metadata": {},
     "output_type": "execute_result"
    }
   ],
   "source": [
    "all(\"12345\")"
   ]
  },
  {
   "cell_type": "code",
   "execution_count": 28,
   "metadata": {},
   "outputs": [
    {
     "data": {
      "text/plain": [
       "True"
      ]
     },
     "execution_count": 28,
     "metadata": {},
     "output_type": "execute_result"
    }
   ],
   "source": [
    "all(\"087120\")"
   ]
  },
  {
   "cell_type": "code",
   "execution_count": 29,
   "metadata": {},
   "outputs": [
    {
     "data": {
      "text/plain": [
       "False"
      ]
     },
     "execution_count": 29,
     "metadata": {},
     "output_type": "execute_result"
    }
   ],
   "source": [
    "all([1,2,7,0,4])"
   ]
  },
  {
   "cell_type": "code",
   "execution_count": 30,
   "metadata": {},
   "outputs": [],
   "source": [
    "any?"
   ]
  },
  {
   "cell_type": "code",
   "execution_count": 31,
   "metadata": {},
   "outputs": [
    {
     "ename": "TypeError",
     "evalue": "all() takes exactly one argument (0 given)",
     "output_type": "error",
     "traceback": [
      "\u001b[1;31m---------------------------------------------------------------------------\u001b[0m",
      "\u001b[1;31mTypeError\u001b[0m                                 Traceback (most recent call last)",
      "\u001b[1;32m<ipython-input-31-e01ad87f7235>\u001b[0m in \u001b[0;36m<module>\u001b[1;34m\u001b[0m\n\u001b[0;32m      1\u001b[0m \u001b[1;33m\u001b[0m\u001b[0m\n\u001b[1;32m----> 2\u001b[1;33m \u001b[0mall\u001b[0m\u001b[1;33m(\u001b[0m\u001b[1;33m)\u001b[0m\u001b[1;33m\u001b[0m\u001b[1;33m\u001b[0m\u001b[0m\n\u001b[0m",
      "\u001b[1;31mTypeError\u001b[0m: all() takes exactly one argument (0 given)"
     ]
    }
   ],
   "source": [
    "\n",
    "all()"
   ]
  },
  {
   "cell_type": "code",
   "execution_count": 32,
   "metadata": {},
   "outputs": [
    {
     "data": {
      "text/plain": [
       "True"
      ]
     },
     "execution_count": 32,
     "metadata": {},
     "output_type": "execute_result"
    }
   ],
   "source": [
    "all(\"\")"
   ]
  },
  {
   "cell_type": "code",
   "execution_count": 33,
   "metadata": {},
   "outputs": [
    {
     "data": {
      "text/plain": [
       "False"
      ]
     },
     "execution_count": 33,
     "metadata": {},
     "output_type": "execute_result"
    }
   ],
   "source": [
    "any(\"\")"
   ]
  },
  {
   "cell_type": "code",
   "execution_count": 34,
   "metadata": {},
   "outputs": [
    {
     "data": {
      "text/plain": [
       "True"
      ]
     },
     "execution_count": 34,
     "metadata": {},
     "output_type": "execute_result"
    }
   ],
   "source": [
    "any([1,0,0,0,0,0,0])"
   ]
  },
  {
   "cell_type": "code",
   "execution_count": 35,
   "metadata": {},
   "outputs": [
    {
     "data": {
      "text/plain": [
       "False"
      ]
     },
     "execution_count": 35,
     "metadata": {},
     "output_type": "execute_result"
    }
   ],
   "source": [
    "any([0,0,0,0,0])"
   ]
  },
  {
   "cell_type": "code",
   "execution_count": 36,
   "metadata": {},
   "outputs": [
    {
     "ename": "TypeError",
     "evalue": "bool expected at most 1 arguments, got 4",
     "output_type": "error",
     "traceback": [
      "\u001b[1;31m---------------------------------------------------------------------------\u001b[0m",
      "\u001b[1;31mTypeError\u001b[0m                                 Traceback (most recent call last)",
      "\u001b[1;32m<ipython-input-36-193a75c2193e>\u001b[0m in \u001b[0;36m<module>\u001b[1;34m\u001b[0m\n\u001b[1;32m----> 1\u001b[1;33m \u001b[0mbool\u001b[0m\u001b[1;33m(\u001b[0m\u001b[1;36m1\u001b[0m\u001b[1;33m,\u001b[0m\u001b[1;36m2\u001b[0m\u001b[1;33m,\u001b[0m\u001b[1;36m3\u001b[0m\u001b[1;33m,\u001b[0m\u001b[1;36m4\u001b[0m\u001b[1;33m)\u001b[0m\u001b[1;33m\u001b[0m\u001b[1;33m\u001b[0m\u001b[0m\n\u001b[0m",
      "\u001b[1;31mTypeError\u001b[0m: bool expected at most 1 arguments, got 4"
     ]
    }
   ],
   "source": [
    "bool(1,2,3,4)"
   ]
  },
  {
   "cell_type": "code",
   "execution_count": 37,
   "metadata": {},
   "outputs": [],
   "source": [
    "l=[1,2,3,4,5,6]"
   ]
  },
  {
   "cell_type": "code",
   "execution_count": 38,
   "metadata": {},
   "outputs": [
    {
     "data": {
      "text/plain": [
       "True"
      ]
     },
     "execution_count": 38,
     "metadata": {},
     "output_type": "execute_result"
    }
   ],
   "source": [
    "bool(l)"
   ]
  },
  {
   "cell_type": "code",
   "execution_count": 39,
   "metadata": {},
   "outputs": [
    {
     "data": {
      "text/plain": [
       "True"
      ]
     },
     "execution_count": 39,
     "metadata": {},
     "output_type": "execute_result"
    }
   ],
   "source": [
    "l=[1,2,3,4,5,0]\n",
    "bool(l)"
   ]
  },
  {
   "cell_type": "code",
   "execution_count": 51,
   "metadata": {},
   "outputs": [
    {
     "name": "stdout",
     "output_type": "stream",
     "text": [
      "7\n"
     ]
    }
   ],
   "source": [
    "l=[1,2,3,4,1,7]\n",
    "p=print(l[0] and l[1] and l[2] and l[3] and l[4] and l[5])"
   ]
  },
  {
   "cell_type": "code",
   "execution_count": 52,
   "metadata": {},
   "outputs": [
    {
     "data": {
      "text/plain": [
       "False"
      ]
     },
     "execution_count": 52,
     "metadata": {},
     "output_type": "execute_result"
    }
   ],
   "source": [
    "bool(p)"
   ]
  },
  {
   "cell_type": "code",
   "execution_count": 56,
   "metadata": {},
   "outputs": [
    {
     "name": "stdout",
     "output_type": "stream",
     "text": [
      "False\n"
     ]
    }
   ],
   "source": [
    "l=[1,2,3,0]\n",
    "z=True\n",
    "for var in l:\n",
    "    z=z and bool(var)\n",
    "    var+=1\n",
    "print(z)"
   ]
  },
  {
   "cell_type": "code",
   "execution_count": 57,
   "metadata": {},
   "outputs": [
    {
     "data": {
      "text/plain": [
       "\"'a'\""
      ]
     },
     "execution_count": 57,
     "metadata": {},
     "output_type": "execute_result"
    }
   ],
   "source": [
    "ascii(\"a\")"
   ]
  },
  {
   "cell_type": "code",
   "execution_count": 59,
   "metadata": {},
   "outputs": [],
   "source": [
    "slice?\n"
   ]
  },
  {
   "cell_type": "code",
   "execution_count": 64,
   "metadata": {},
   "outputs": [],
   "source": [
    "a=[1,3,6,8,2,5]"
   ]
  },
  {
   "cell_type": "code",
   "execution_count": 65,
   "metadata": {},
   "outputs": [
    {
     "data": {
      "text/plain": [
       "slice(None, [1, 3, 6, 8, 2, 5], None)"
      ]
     },
     "execution_count": 65,
     "metadata": {},
     "output_type": "execute_result"
    }
   ],
   "source": [
    "slice(a)\n"
   ]
  },
  {
   "cell_type": "code",
   "execution_count": 66,
   "metadata": {},
   "outputs": [],
   "source": [
    "l=list(range(1,10))"
   ]
  },
  {
   "cell_type": "code",
   "execution_count": 67,
   "metadata": {},
   "outputs": [
    {
     "data": {
      "text/plain": [
       "[1, 2, 3, 4, 5, 6, 7, 8, 9]"
      ]
     },
     "execution_count": 67,
     "metadata": {},
     "output_type": "execute_result"
    }
   ],
   "source": [
    "l\n"
   ]
  },
  {
   "cell_type": "code",
   "execution_count": 73,
   "metadata": {},
   "outputs": [],
   "source": [
    "z=slice(1,10,2)"
   ]
  },
  {
   "cell_type": "code",
   "execution_count": 74,
   "metadata": {},
   "outputs": [
    {
     "data": {
      "text/plain": [
       "[2, 4, 6, 8]"
      ]
     },
     "execution_count": 74,
     "metadata": {},
     "output_type": "execute_result"
    }
   ],
   "source": [
    "l[z]"
   ]
  },
  {
   "cell_type": "code",
   "execution_count": 70,
   "metadata": {},
   "outputs": [
    {
     "data": {
      "text/plain": [
       "[1, 2, 3, 4, 5, 6, 7, 8, 9]"
      ]
     },
     "execution_count": 70,
     "metadata": {},
     "output_type": "execute_result"
    }
   ],
   "source": [
    "z"
   ]
  },
  {
   "cell_type": "code",
   "execution_count": 75,
   "metadata": {},
   "outputs": [
    {
     "data": {
      "text/plain": [
       "(2, 1)"
      ]
     },
     "execution_count": 75,
     "metadata": {},
     "output_type": "execute_result"
    }
   ],
   "source": [
    "divmod(5,2)"
   ]
  },
  {
   "cell_type": "code",
   "execution_count": 76,
   "metadata": {},
   "outputs": [
    {
     "data": {
      "text/plain": [
       "{'__name__': '__main__',\n",
       " '__doc__': 'Automatically created module for IPython interactive environment',\n",
       " '__package__': None,\n",
       " '__loader__': None,\n",
       " '__spec__': None,\n",
       " '__builtin__': <module 'builtins' (built-in)>,\n",
       " '__builtins__': <module 'builtins' (built-in)>,\n",
       " '_ih': ['',\n",
       "  \"get_ipython().run_line_magic('pinfo', 'enumerate')\",\n",
       "  'enumerate()',\n",
       "  'enumerate(3,l)',\n",
       "  'enumerate(3)',\n",
       "  \"get_ipython().run_line_magic('pinfo', 'enumerate')\",\n",
       "  'enumerate(l,start=0)',\n",
       "  'enumerate(\"abcdjksdc\")',\n",
       "  'z=enumerate(\"abcdjksdc\")',\n",
       "  'for var in z:\\n    print(var)',\n",
       "  'exec(\"print(\"hello \")\")',\n",
       "  'exec(\"print(\\'hello\\')\")',\n",
       "  'print(repr(\"\\\\n\"))',\n",
       "  'print(\"\\\\n\")',\n",
       "  'print(\"\\\\n\\\\n\")',\n",
       "  'round(25.234567)',\n",
       "  'a=5\\nisinstance(a,int)',\n",
       "  'oct(5)',\n",
       "  'ord(\"A\")',\n",
       "  'ord(\"e\")',\n",
       "  'pow(2,9)',\n",
       "  '2**9',\n",
       "  'from math import pow\\npow(2,9)',\n",
       "  'abs(35+6)',\n",
       "  'abs(35+4j)',\n",
       "  \"get_ipython().run_line_magic('pinfo', 'all')\",\n",
       "  'all(1234)',\n",
       "  'all(\"12345\")',\n",
       "  'all(\"087120\")',\n",
       "  'all([1,2,7,0,4])',\n",
       "  \"get_ipython().run_line_magic('pinfo', 'any')\",\n",
       "  '\\nall()',\n",
       "  'all(\"\")',\n",
       "  'any(\"\")',\n",
       "  'any([1,0,0,0,0,0,0])',\n",
       "  'any([0,0,0,0,0])',\n",
       "  'bool(1,2,3,4)',\n",
       "  'l=[1,2,3,4,5,6]',\n",
       "  'bool(l)',\n",
       "  'l=[1,2,3,4,5,0]\\nbool(l)',\n",
       "  'l=[1,2,3,4,5]\\nprint(l[0] and l[1] and l[2] and l[3] and l[4])',\n",
       "  'bool(p)',\n",
       "  'l=[1,2,3,4,0]\\np=print(l[0] and l[1] and l[2] and l[3] and l[4])',\n",
       "  'bool(p)',\n",
       "  'l=[1,2,3,4,0,7]\\np=print(l[0] and l[1] and l[2] and l[3] and l[4])',\n",
       "  'bool(p)',\n",
       "  'bool(p)',\n",
       "  'l=[1,2,3,4,0,7]\\np=print(l[0] and l[1] and l[2] and l[3] and l[4] and l[5])',\n",
       "  'bool(p)',\n",
       "  'l=[1,2,3,4,1,7]\\np=print(l[0] and l[1] and l[2] and l[3] and l[4] and l[5])',\n",
       "  'bool(p)',\n",
       "  'l=[1,2,3,4,1,7]\\np=print(l[0] and l[1] and l[2] and l[3] and l[4] and l[5])',\n",
       "  'bool(p)',\n",
       "  'l=[1,2,3]\\nz=True\\nfor var in l:\\n    z=z and bool(var)',\n",
       "  'l=[1,2,3]\\nz=True\\nfor var in l:\\n    z=z and bool(var)\\n    var+=1\\nprint(var)',\n",
       "  'l=[1,2,3]\\nz=True\\nfor var in l:\\n    z=z and bool(var)\\n    var+=1\\nprint(z)',\n",
       "  'l=[1,2,3,0]\\nz=True\\nfor var in l:\\n    z=z and bool(var)\\n    var+=1\\nprint(z)',\n",
       "  'ascii(\"a\")',\n",
       "  \"get_ipython().run_line_magic('pinfo', 'slice')\",\n",
       "  \"get_ipython().run_line_magic('pinfo', 'slice')\",\n",
       "  'a=[0,10,2]',\n",
       "  'a',\n",
       "  'slice(a)',\n",
       "  'slice(a)',\n",
       "  'a=[1,3,6,8,2,5]',\n",
       "  'slice(a)',\n",
       "  'l=list(range(1,10))',\n",
       "  'l',\n",
       "  'z=slice(0,10,2)',\n",
       "  'z=(l)',\n",
       "  'z',\n",
       "  'z(l)',\n",
       "  'l[z]',\n",
       "  'z=slice(1,10,2)',\n",
       "  'l[z]',\n",
       "  'divmod(5,2)',\n",
       "  'globals()'],\n",
       " '_oh': {7: <enumerate at 0x1c7fdccf480>,\n",
       "  15: 25,\n",
       "  16: True,\n",
       "  17: '0o5',\n",
       "  18: 65,\n",
       "  19: 101,\n",
       "  20: 512,\n",
       "  21: 512,\n",
       "  22: 512.0,\n",
       "  23: 41,\n",
       "  24: 35.22782990761707,\n",
       "  27: True,\n",
       "  28: True,\n",
       "  29: False,\n",
       "  32: True,\n",
       "  33: False,\n",
       "  34: True,\n",
       "  35: False,\n",
       "  38: True,\n",
       "  39: True,\n",
       "  43: False,\n",
       "  45: False,\n",
       "  46: False,\n",
       "  48: False,\n",
       "  50: False,\n",
       "  52: False,\n",
       "  57: \"'a'\",\n",
       "  61: [0, 10, 2],\n",
       "  62: slice(None, [0, 10, 2], None),\n",
       "  63: slice(None, [0, 10, 2], None),\n",
       "  65: slice(None, [1, 3, 6, 8, 2, 5], None),\n",
       "  67: [1, 2, 3, 4, 5, 6, 7, 8, 9],\n",
       "  70: [1, 2, 3, 4, 5, 6, 7, 8, 9],\n",
       "  74: [2, 4, 6, 8],\n",
       "  75: (2, 1)},\n",
       " '_dh': ['E:\\\\python'],\n",
       " 'In': ['',\n",
       "  \"get_ipython().run_line_magic('pinfo', 'enumerate')\",\n",
       "  'enumerate()',\n",
       "  'enumerate(3,l)',\n",
       "  'enumerate(3)',\n",
       "  \"get_ipython().run_line_magic('pinfo', 'enumerate')\",\n",
       "  'enumerate(l,start=0)',\n",
       "  'enumerate(\"abcdjksdc\")',\n",
       "  'z=enumerate(\"abcdjksdc\")',\n",
       "  'for var in z:\\n    print(var)',\n",
       "  'exec(\"print(\"hello \")\")',\n",
       "  'exec(\"print(\\'hello\\')\")',\n",
       "  'print(repr(\"\\\\n\"))',\n",
       "  'print(\"\\\\n\")',\n",
       "  'print(\"\\\\n\\\\n\")',\n",
       "  'round(25.234567)',\n",
       "  'a=5\\nisinstance(a,int)',\n",
       "  'oct(5)',\n",
       "  'ord(\"A\")',\n",
       "  'ord(\"e\")',\n",
       "  'pow(2,9)',\n",
       "  '2**9',\n",
       "  'from math import pow\\npow(2,9)',\n",
       "  'abs(35+6)',\n",
       "  'abs(35+4j)',\n",
       "  \"get_ipython().run_line_magic('pinfo', 'all')\",\n",
       "  'all(1234)',\n",
       "  'all(\"12345\")',\n",
       "  'all(\"087120\")',\n",
       "  'all([1,2,7,0,4])',\n",
       "  \"get_ipython().run_line_magic('pinfo', 'any')\",\n",
       "  '\\nall()',\n",
       "  'all(\"\")',\n",
       "  'any(\"\")',\n",
       "  'any([1,0,0,0,0,0,0])',\n",
       "  'any([0,0,0,0,0])',\n",
       "  'bool(1,2,3,4)',\n",
       "  'l=[1,2,3,4,5,6]',\n",
       "  'bool(l)',\n",
       "  'l=[1,2,3,4,5,0]\\nbool(l)',\n",
       "  'l=[1,2,3,4,5]\\nprint(l[0] and l[1] and l[2] and l[3] and l[4])',\n",
       "  'bool(p)',\n",
       "  'l=[1,2,3,4,0]\\np=print(l[0] and l[1] and l[2] and l[3] and l[4])',\n",
       "  'bool(p)',\n",
       "  'l=[1,2,3,4,0,7]\\np=print(l[0] and l[1] and l[2] and l[3] and l[4])',\n",
       "  'bool(p)',\n",
       "  'bool(p)',\n",
       "  'l=[1,2,3,4,0,7]\\np=print(l[0] and l[1] and l[2] and l[3] and l[4] and l[5])',\n",
       "  'bool(p)',\n",
       "  'l=[1,2,3,4,1,7]\\np=print(l[0] and l[1] and l[2] and l[3] and l[4] and l[5])',\n",
       "  'bool(p)',\n",
       "  'l=[1,2,3,4,1,7]\\np=print(l[0] and l[1] and l[2] and l[3] and l[4] and l[5])',\n",
       "  'bool(p)',\n",
       "  'l=[1,2,3]\\nz=True\\nfor var in l:\\n    z=z and bool(var)',\n",
       "  'l=[1,2,3]\\nz=True\\nfor var in l:\\n    z=z and bool(var)\\n    var+=1\\nprint(var)',\n",
       "  'l=[1,2,3]\\nz=True\\nfor var in l:\\n    z=z and bool(var)\\n    var+=1\\nprint(z)',\n",
       "  'l=[1,2,3,0]\\nz=True\\nfor var in l:\\n    z=z and bool(var)\\n    var+=1\\nprint(z)',\n",
       "  'ascii(\"a\")',\n",
       "  \"get_ipython().run_line_magic('pinfo', 'slice')\",\n",
       "  \"get_ipython().run_line_magic('pinfo', 'slice')\",\n",
       "  'a=[0,10,2]',\n",
       "  'a',\n",
       "  'slice(a)',\n",
       "  'slice(a)',\n",
       "  'a=[1,3,6,8,2,5]',\n",
       "  'slice(a)',\n",
       "  'l=list(range(1,10))',\n",
       "  'l',\n",
       "  'z=slice(0,10,2)',\n",
       "  'z=(l)',\n",
       "  'z',\n",
       "  'z(l)',\n",
       "  'l[z]',\n",
       "  'z=slice(1,10,2)',\n",
       "  'l[z]',\n",
       "  'divmod(5,2)',\n",
       "  'globals()'],\n",
       " 'Out': {7: <enumerate at 0x1c7fdccf480>,\n",
       "  15: 25,\n",
       "  16: True,\n",
       "  17: '0o5',\n",
       "  18: 65,\n",
       "  19: 101,\n",
       "  20: 512,\n",
       "  21: 512,\n",
       "  22: 512.0,\n",
       "  23: 41,\n",
       "  24: 35.22782990761707,\n",
       "  27: True,\n",
       "  28: True,\n",
       "  29: False,\n",
       "  32: True,\n",
       "  33: False,\n",
       "  34: True,\n",
       "  35: False,\n",
       "  38: True,\n",
       "  39: True,\n",
       "  43: False,\n",
       "  45: False,\n",
       "  46: False,\n",
       "  48: False,\n",
       "  50: False,\n",
       "  52: False,\n",
       "  57: \"'a'\",\n",
       "  61: [0, 10, 2],\n",
       "  62: slice(None, [0, 10, 2], None),\n",
       "  63: slice(None, [0, 10, 2], None),\n",
       "  65: slice(None, [1, 3, 6, 8, 2, 5], None),\n",
       "  67: [1, 2, 3, 4, 5, 6, 7, 8, 9],\n",
       "  70: [1, 2, 3, 4, 5, 6, 7, 8, 9],\n",
       "  74: [2, 4, 6, 8],\n",
       "  75: (2, 1)},\n",
       " 'get_ipython': <bound method InteractiveShell.get_ipython of <ipykernel.zmqshell.ZMQInteractiveShell object at 0x000001C7FAF67438>>,\n",
       " 'exit': <IPython.core.autocall.ZMQExitAutocall at 0x1c7fd77bef0>,\n",
       " 'quit': <IPython.core.autocall.ZMQExitAutocall at 0x1c7fd77bef0>,\n",
       " '_': (2, 1),\n",
       " '__': [2, 4, 6, 8],\n",
       " '___': [1, 2, 3, 4, 5, 6, 7, 8, 9],\n",
       " '_i': 'divmod(5,2)',\n",
       " '_ii': 'l[z]',\n",
       " '_iii': 'z=slice(1,10,2)',\n",
       " '_i1': 'enumerate?',\n",
       " '_i2': 'enumerate()',\n",
       " '_i3': 'enumerate(3,l)',\n",
       " '_i4': 'enumerate(3)',\n",
       " '_i5': 'enumerate?',\n",
       " '_i6': 'enumerate(l,start=0)',\n",
       " '_i7': 'enumerate(\"abcdjksdc\")',\n",
       " '_7': <enumerate at 0x1c7fdccf480>,\n",
       " '_i8': 'z=enumerate(\"abcdjksdc\")',\n",
       " 'z': slice(1, 10, 2),\n",
       " '_i9': 'for var in z:\\n    print(var)',\n",
       " 'var': 1,\n",
       " '_i10': 'exec(\"print(\"hello \")\")',\n",
       " '_i11': 'exec(\"print(\\'hello\\')\")',\n",
       " '_i12': 'print(repr(\"\\\\n\"))',\n",
       " '_i13': 'print(\"\\\\n\")',\n",
       " '_i14': 'print(\"\\\\n\\\\n\")',\n",
       " '_i15': 'round(25.234567)',\n",
       " '_15': 25,\n",
       " '_i16': 'a=5\\nisinstance(a,int)',\n",
       " 'a': [1, 3, 6, 8, 2, 5],\n",
       " '_16': True,\n",
       " '_i17': 'oct(5)',\n",
       " '_17': '0o5',\n",
       " '_i18': 'ord(\"A\")',\n",
       " '_18': 65,\n",
       " '_i19': 'ord(\"e\")',\n",
       " '_19': 101,\n",
       " '_i20': 'pow(2,9)',\n",
       " '_20': 512,\n",
       " '_i21': '2**9',\n",
       " '_21': 512,\n",
       " '_i22': 'from math import pow\\npow(2,9)',\n",
       " 'pow': <function math.pow(x, y, /)>,\n",
       " '_22': 512.0,\n",
       " '_i23': 'abs(35+6)',\n",
       " '_23': 41,\n",
       " '_i24': 'abs(35+4j)',\n",
       " '_24': 35.22782990761707,\n",
       " '_i25': 'all?',\n",
       " '_i26': 'all(1234)',\n",
       " '_i27': 'all(\"12345\")',\n",
       " '_27': True,\n",
       " '_i28': 'all(\"087120\")',\n",
       " '_28': True,\n",
       " '_i29': 'all([1,2,7,0,4])',\n",
       " '_29': False,\n",
       " '_i30': 'any?',\n",
       " '_i31': '\\nall()',\n",
       " '_i32': 'all(\"\")',\n",
       " '_32': True,\n",
       " '_i33': 'any(\"\")',\n",
       " '_33': False,\n",
       " '_i34': 'any([1,0,0,0,0,0,0])',\n",
       " '_34': True,\n",
       " '_i35': 'any([0,0,0,0,0])',\n",
       " '_35': False,\n",
       " '_i36': 'bool(1,2,3,4)',\n",
       " '_i37': 'l=[1,2,3,4,5,6]',\n",
       " 'l': [1, 2, 3, 4, 5, 6, 7, 8, 9],\n",
       " '_i38': 'bool(l)',\n",
       " '_38': True,\n",
       " '_i39': 'l=[1,2,3,4,5,0]\\nbool(l)',\n",
       " '_39': True,\n",
       " '_i40': 'l=[1,2,3,4,5]\\nprint(l[0] and l[1] and l[2] and l[3] and l[4])',\n",
       " '_i41': 'bool(p)',\n",
       " '_i42': 'l=[1,2,3,4,0]\\np=print(l[0] and l[1] and l[2] and l[3] and l[4])',\n",
       " 'p': None,\n",
       " '_i43': 'bool(p)',\n",
       " '_43': False,\n",
       " '_i44': 'l=[1,2,3,4,0,7]\\np=print(l[0] and l[1] and l[2] and l[3] and l[4])',\n",
       " '_i45': 'bool(p)',\n",
       " '_45': False,\n",
       " '_i46': 'bool(p)',\n",
       " '_46': False,\n",
       " '_i47': 'l=[1,2,3,4,0,7]\\np=print(l[0] and l[1] and l[2] and l[3] and l[4] and l[5])',\n",
       " '_i48': 'bool(p)',\n",
       " '_48': False,\n",
       " '_i49': 'l=[1,2,3,4,1,7]\\np=print(l[0] and l[1] and l[2] and l[3] and l[4] and l[5])',\n",
       " '_i50': 'bool(p)',\n",
       " '_50': False,\n",
       " '_i51': 'l=[1,2,3,4,1,7]\\np=print(l[0] and l[1] and l[2] and l[3] and l[4] and l[5])',\n",
       " '_i52': 'bool(p)',\n",
       " '_52': False,\n",
       " '_i53': 'l=[1,2,3]\\nz=True\\nfor var in l:\\n    z=z and bool(var)',\n",
       " '_i54': 'l=[1,2,3]\\nz=True\\nfor var in l:\\n    z=z and bool(var)\\n    var+=1\\nprint(var)',\n",
       " '_i55': 'l=[1,2,3]\\nz=True\\nfor var in l:\\n    z=z and bool(var)\\n    var+=1\\nprint(z)',\n",
       " '_i56': 'l=[1,2,3,0]\\nz=True\\nfor var in l:\\n    z=z and bool(var)\\n    var+=1\\nprint(z)',\n",
       " '_i57': 'ascii(\"a\")',\n",
       " '_57': \"'a'\",\n",
       " '_i58': 'slice?',\n",
       " '_i59': 'slice?',\n",
       " '_i60': 'a=[0,10,2]',\n",
       " '_i61': 'a',\n",
       " '_61': [0, 10, 2],\n",
       " '_i62': 'slice(a)',\n",
       " '_62': slice(None, [0, 10, 2], None),\n",
       " '_i63': 'slice(a)',\n",
       " '_63': slice(None, [0, 10, 2], None),\n",
       " '_i64': 'a=[1,3,6,8,2,5]',\n",
       " '_i65': 'slice(a)',\n",
       " '_65': slice(None, [1, 3, 6, 8, 2, 5], None),\n",
       " '_i66': 'l=list(range(1,10))',\n",
       " '_i67': 'l',\n",
       " '_67': [1, 2, 3, 4, 5, 6, 7, 8, 9],\n",
       " '_i68': 'z=slice(0,10,2)',\n",
       " '_i69': 'z=(l)',\n",
       " '_i70': 'z',\n",
       " '_70': [1, 2, 3, 4, 5, 6, 7, 8, 9],\n",
       " '_i71': 'z(l)',\n",
       " '_i72': 'l[z]',\n",
       " '_i73': 'z=slice(1,10,2)',\n",
       " '_i74': 'l[z]',\n",
       " '_74': [2, 4, 6, 8],\n",
       " '_i75': 'divmod(5,2)',\n",
       " '_75': (2, 1),\n",
       " '_i76': 'globals()'}"
      ]
     },
     "execution_count": 76,
     "metadata": {},
     "output_type": "execute_result"
    }
   ],
   "source": [
    "globals()"
   ]
  },
  {
   "cell_type": "code",
   "execution_count": 77,
   "metadata": {},
   "outputs": [
    {
     "data": {
      "text/plain": [
       "485696759010151909"
      ]
     },
     "execution_count": 77,
     "metadata": {},
     "output_type": "execute_result"
    }
   ],
   "source": [
    "hash((1,2,3,4))"
   ]
  },
  {
   "cell_type": "code",
   "execution_count": 78,
   "metadata": {},
   "outputs": [
    {
     "ename": "TypeError",
     "evalue": "'str' object cannot be interpreted as an integer",
     "output_type": "error",
     "traceback": [
      "\u001b[1;31m---------------------------------------------------------------------------\u001b[0m",
      "\u001b[1;31mTypeError\u001b[0m                                 Traceback (most recent call last)",
      "\u001b[1;32m<ipython-input-78-b7ea7a69af8a>\u001b[0m in \u001b[0;36m<module>\u001b[1;34m\u001b[0m\n\u001b[1;32m----> 1\u001b[1;33m \u001b[0mhex\u001b[0m\u001b[1;33m(\u001b[0m\u001b[1;34m\"123\"\u001b[0m\u001b[1;33m)\u001b[0m\u001b[1;33m\u001b[0m\u001b[1;33m\u001b[0m\u001b[0m\n\u001b[0m",
      "\u001b[1;31mTypeError\u001b[0m: 'str' object cannot be interpreted as an integer"
     ]
    }
   ],
   "source": [
    "hex(\"123\")"
   ]
  },
  {
   "cell_type": "code",
   "execution_count": 79,
   "metadata": {},
   "outputs": [],
   "source": [
    "hex?"
   ]
  },
  {
   "cell_type": "code",
   "execution_count": 80,
   "metadata": {},
   "outputs": [
    {
     "data": {
      "text/plain": [
       "'0xc'"
      ]
     },
     "execution_count": 80,
     "metadata": {},
     "output_type": "execute_result"
    }
   ],
   "source": [
    "hex(12)"
   ]
  },
  {
   "cell_type": "code",
   "execution_count": 81,
   "metadata": {},
   "outputs": [],
   "source": [
    "zip?"
   ]
  },
  {
   "cell_type": "code",
   "execution_count": 82,
   "metadata": {},
   "outputs": [],
   "source": [
    "l=[1,2,3,4,5,6]"
   ]
  },
  {
   "cell_type": "code",
   "execution_count": 83,
   "metadata": {},
   "outputs": [],
   "source": [
    "ll=[6,5,4,3,2,1]"
   ]
  },
  {
   "cell_type": "code",
   "execution_count": 84,
   "metadata": {},
   "outputs": [],
   "source": [
    "z=zip(l,ll)"
   ]
  },
  {
   "cell_type": "code",
   "execution_count": 85,
   "metadata": {},
   "outputs": [
    {
     "name": "stdout",
     "output_type": "stream",
     "text": [
      "(1, 6)\n",
      "(2, 5)\n",
      "(3, 4)\n",
      "(4, 3)\n",
      "(5, 2)\n",
      "(6, 1)\n"
     ]
    }
   ],
   "source": [
    "for var in z:\n",
    "    print(var)"
   ]
  },
  {
   "cell_type": "code",
   "execution_count": 86,
   "metadata": {},
   "outputs": [
    {
     "data": {
      "text/plain": [
       "False"
      ]
     },
     "execution_count": 86,
     "metadata": {},
     "output_type": "execute_result"
    }
   ],
   "source": [
    "a=5 \n",
    "callable(a)"
   ]
  },
  {
   "cell_type": "code",
   "execution_count": 87,
   "metadata": {},
   "outputs": [
    {
     "data": {
      "text/plain": [
       "True"
      ]
     },
     "execution_count": 87,
     "metadata": {},
     "output_type": "execute_result"
    }
   ],
   "source": [
    "a=list\n",
    "callable(a)"
   ]
  },
  {
   "cell_type": "code",
   "execution_count": 88,
   "metadata": {},
   "outputs": [
    {
     "data": {
      "text/plain": [
       "'0b1100'"
      ]
     },
     "execution_count": 88,
     "metadata": {},
     "output_type": "execute_result"
    }
   ],
   "source": [
    "bin(12)"
   ]
  },
  {
   "cell_type": "code",
   "execution_count": 91,
   "metadata": {},
   "outputs": [],
   "source": [
    "chr?"
   ]
  },
  {
   "cell_type": "code",
   "execution_count": 92,
   "metadata": {},
   "outputs": [
    {
     "ename": "TypeError",
     "evalue": "an integer is required (got type type)",
     "output_type": "error",
     "traceback": [
      "\u001b[1;31m---------------------------------------------------------------------------\u001b[0m",
      "\u001b[1;31mTypeError\u001b[0m                                 Traceback (most recent call last)",
      "\u001b[1;32m<ipython-input-92-238b82e5d399>\u001b[0m in \u001b[0;36m<module>\u001b[1;34m\u001b[0m\n\u001b[1;32m----> 1\u001b[1;33m \u001b[0mchr\u001b[0m\u001b[1;33m(\u001b[0m\u001b[0ma\u001b[0m\u001b[1;33m)\u001b[0m\u001b[1;33m\u001b[0m\u001b[1;33m\u001b[0m\u001b[0m\n\u001b[0m",
      "\u001b[1;31mTypeError\u001b[0m: an integer is required (got type type)"
     ]
    }
   ],
   "source": [
    "chr(a)"
   ]
  },
  {
   "cell_type": "code",
   "execution_count": 93,
   "metadata": {},
   "outputs": [
    {
     "ename": "TypeError",
     "evalue": "'builtin_function_or_method' object is not subscriptable",
     "output_type": "error",
     "traceback": [
      "\u001b[1;31m---------------------------------------------------------------------------\u001b[0m",
      "\u001b[1;31mTypeError\u001b[0m                                 Traceback (most recent call last)",
      "\u001b[1;32m<ipython-input-93-fa975198127f>\u001b[0m in \u001b[0;36m<module>\u001b[1;34m\u001b[0m\n\u001b[1;32m----> 1\u001b[1;33m \u001b[0mchr\u001b[0m\u001b[1;33m[\u001b[0m\u001b[0ma\u001b[0m\u001b[1;33m]\u001b[0m\u001b[1;33m\u001b[0m\u001b[1;33m\u001b[0m\u001b[0m\n\u001b[0m",
      "\u001b[1;31mTypeError\u001b[0m: 'builtin_function_or_method' object is not subscriptable"
     ]
    }
   ],
   "source": [
    "chr[a]"
   ]
  },
  {
   "cell_type": "code",
   "execution_count": 94,
   "metadata": {},
   "outputs": [
    {
     "data": {
      "text/plain": [
       "'y'"
      ]
     },
     "execution_count": 94,
     "metadata": {},
     "output_type": "execute_result"
    }
   ],
   "source": [
    "chr(121)"
   ]
  },
  {
   "cell_type": "code",
   "execution_count": 96,
   "metadata": {},
   "outputs": [],
   "source": [
    "def hello():                 #Definition of function\n",
    "    print(\"hell yeah\")           #function body"
   ]
  },
  {
   "cell_type": "code",
   "execution_count": 97,
   "metadata": {},
   "outputs": [
    {
     "name": "stdout",
     "output_type": "stream",
     "text": [
      "hell yeah\n"
     ]
    }
   ],
   "source": [
    "hello()        #function calling"
   ]
  },
  {
   "cell_type": "code",
   "execution_count": 98,
   "metadata": {},
   "outputs": [],
   "source": [
    "def add(a,b):\n",
    "    return a+b"
   ]
  },
  {
   "cell_type": "code",
   "execution_count": 99,
   "metadata": {},
   "outputs": [
    {
     "data": {
      "text/plain": [
       "21"
      ]
     },
     "execution_count": 99,
     "metadata": {},
     "output_type": "execute_result"
    }
   ],
   "source": [
    "add(13,8)"
   ]
  },
  {
   "cell_type": "code",
   "execution_count": 101,
   "metadata": {},
   "outputs": [],
   "source": [
    "def add(a,b):\n",
    "    a+b"
   ]
  },
  {
   "cell_type": "code",
   "execution_count": 102,
   "metadata": {},
   "outputs": [],
   "source": [
    "add(2,4)"
   ]
  },
  {
   "cell_type": "code",
   "execution_count": 105,
   "metadata": {},
   "outputs": [],
   "source": [
    "def temp(a,b):\n",
    "    return a+b      #return act as exit status for function\n",
    "    print (a-b)\n",
    "    "
   ]
  },
  {
   "cell_type": "code",
   "execution_count": 106,
   "metadata": {},
   "outputs": [
    {
     "data": {
      "text/plain": [
       "6"
      ]
     },
     "execution_count": 106,
     "metadata": {},
     "output_type": "execute_result"
    }
   ],
   "source": [
    "temp(2,4)"
   ]
  },
  {
   "cell_type": "code",
   "execution_count": 107,
   "metadata": {},
   "outputs": [],
   "source": [
    "def temp():\n",
    "    print(\"hell yeah\")"
   ]
  },
  {
   "cell_type": "code",
   "execution_count": 109,
   "metadata": {},
   "outputs": [
    {
     "ename": "TypeError",
     "evalue": "temp() takes 0 positional arguments but 2 were given",
     "output_type": "error",
     "traceback": [
      "\u001b[1;31m---------------------------------------------------------------------------\u001b[0m",
      "\u001b[1;31mTypeError\u001b[0m                                 Traceback (most recent call last)",
      "\u001b[1;32m<ipython-input-109-241ea2b0f518>\u001b[0m in \u001b[0;36m<module>\u001b[1;34m\u001b[0m\n\u001b[1;32m----> 1\u001b[1;33m \u001b[0mtemp\u001b[0m\u001b[1;33m(\u001b[0m\u001b[1;36m2\u001b[0m\u001b[1;33m,\u001b[0m\u001b[1;36m3\u001b[0m\u001b[1;33m)\u001b[0m    \u001b[1;31m#python does not support function overloading but supports function overriding\u001b[0m\u001b[1;33m\u001b[0m\u001b[1;33m\u001b[0m\u001b[0m\n\u001b[0m",
      "\u001b[1;31mTypeError\u001b[0m: temp() takes 0 positional arguments but 2 were given"
     ]
    }
   ],
   "source": [
    "temp(2,3)    #python does not support function overloading but supports function overriding"
   ]
  },
  {
   "cell_type": "code",
   "execution_count": 110,
   "metadata": {},
   "outputs": [],
   "source": [
    "def add(a,b=8):\n",
    "    return a+b\n"
   ]
  },
  {
   "cell_type": "code",
   "execution_count": 111,
   "metadata": {},
   "outputs": [
    {
     "data": {
      "text/plain": [
       "10"
      ]
     },
     "execution_count": 111,
     "metadata": {},
     "output_type": "execute_result"
    }
   ],
   "source": [
    "add(2)"
   ]
  },
  {
   "cell_type": "code",
   "execution_count": 112,
   "metadata": {},
   "outputs": [
    {
     "data": {
      "text/plain": [
       "5"
      ]
     },
     "execution_count": 112,
     "metadata": {},
     "output_type": "execute_result"
    }
   ],
   "source": [
    "add(2,3)"
   ]
  },
  {
   "cell_type": "code",
   "execution_count": 113,
   "metadata": {},
   "outputs": [],
   "source": [
    "def test(a=5,b=7):\n",
    "    return a+b"
   ]
  },
  {
   "cell_type": "code",
   "execution_count": 114,
   "metadata": {},
   "outputs": [
    {
     "data": {
      "text/plain": [
       "13"
      ]
     },
     "execution_count": 114,
     "metadata": {},
     "output_type": "execute_result"
    }
   ],
   "source": [
    "test(7,6)"
   ]
  },
  {
   "cell_type": "code",
   "execution_count": 117,
   "metadata": {},
   "outputs": [],
   "source": [
    "def temp(*var):     #variable length argument \n",
    "    print(var)"
   ]
  },
  {
   "cell_type": "code",
   "execution_count": 118,
   "metadata": {},
   "outputs": [
    {
     "name": "stdout",
     "output_type": "stream",
     "text": [
      "(1, 2, 3, 4, 5, 6, 7, 88, 99, 0)\n"
     ]
    }
   ],
   "source": [
    "temp(1,2,3,4,5,6,7,88,99,0)"
   ]
  },
  {
   "cell_type": "code",
   "execution_count": 119,
   "metadata": {},
   "outputs": [],
   "source": [
    "def test1(**kwargs):\n",
    "    return kwargs\n"
   ]
  },
  {
   "cell_type": "code",
   "execution_count": 121,
   "metadata": {},
   "outputs": [
    {
     "data": {
      "text/plain": [
       "{'name': 'manish', 'city': 'jaipur'}"
      ]
     },
     "execution_count": 121,
     "metadata": {},
     "output_type": "execute_result"
    }
   ],
   "source": [
    "test1(name='manish',city='jaipur')"
   ]
  },
  {
   "cell_type": "code",
   "execution_count": 124,
   "metadata": {},
   "outputs": [],
   "source": [
    "def test2(a,b=5,*var,**kwargs):\n",
    "    print(a,b,var,kwargs,sep=\"\\n\")"
   ]
  },
  {
   "cell_type": "code",
   "execution_count": 125,
   "metadata": {},
   "outputs": [
    {
     "name": "stdout",
     "output_type": "stream",
     "text": [
      "2\n",
      "3\n",
      "(4, 5, 6, 7)\n",
      "{'name': 'abc', 'jaipur': 'jaipur'}\n"
     ]
    }
   ],
   "source": [
    "test2(2,3,4,5,6,7,name=\"abc\",jaipur=\"jaipur\")"
   ]
  },
  {
   "cell_type": "code",
   "execution_count": 127,
   "metadata": {},
   "outputs": [],
   "source": [
    "from random import randint\n",
    "l=[randint(1,100)for var in range(10)]\n"
   ]
  },
  {
   "cell_type": "raw",
   "metadata": {},
   "source": [
    "l"
   ]
  },
  {
   "cell_type": "code",
   "execution_count": 128,
   "metadata": {},
   "outputs": [
    {
     "data": {
      "text/plain": [
       "[23, 23, 56, 48, 100, 67, 32, 12, 89, 70]"
      ]
     },
     "execution_count": 128,
     "metadata": {},
     "output_type": "execute_result"
    }
   ],
   "source": [
    "l"
   ]
  },
  {
   "cell_type": "code",
   "execution_count": 1,
   "metadata": {},
   "outputs": [
    {
     "name": "stdout",
     "output_type": "stream",
     "text": [
      "Enter element 0-02\n",
      "Enter element 0-13\n",
      "Enter element 0-24\n",
      "Enter element 1-05\n",
      "Enter element 1-15\n",
      "Enter element 1-22\n",
      "Enter element 2-01\n",
      "Enter element 2-14\n",
      "Enter element 2-25\n"
     ]
    }
   ],
   "source": [
    "mat=[]\n",
    "r=0\n",
    "i=0\n",
    "while r<3:\n",
    "    c=0\n",
    "    row=[]\n",
    "    while c<3:\n",
    "        v=int(input(f\"Enter element {r}-{c}\"))\n",
    "        row.append(v)\n",
    "        c+=1\n",
    "    mat.append(row)\n",
    "    r+=1"
   ]
  },
  {
   "cell_type": "markdown",
   "metadata": {},
   "source": [
    "mat"
   ]
  },
  {
   "cell_type": "code",
   "execution_count": 2,
   "metadata": {},
   "outputs": [
    {
     "data": {
      "text/plain": [
       "[[2, 3, 4], [5, 5, 2], [1, 4, 5]]"
      ]
     },
     "execution_count": 2,
     "metadata": {},
     "output_type": "execute_result"
    }
   ],
   "source": [
    "mat"
   ]
  },
  {
   "cell_type": "code",
   "execution_count": null,
   "metadata": {},
   "outputs": [],
   "source": []
  }
 ],
 "metadata": {
  "kernelspec": {
   "display_name": "Python 3",
   "language": "python",
   "name": "python3"
  },
  "language_info": {
   "codemirror_mode": {
    "name": "ipython",
    "version": 3
   },
   "file_extension": ".py",
   "mimetype": "text/x-python",
   "name": "python",
   "nbconvert_exporter": "python",
   "pygments_lexer": "ipython3",
   "version": "3.7.3"
  }
 },
 "nbformat": 4,
 "nbformat_minor": 2
}
