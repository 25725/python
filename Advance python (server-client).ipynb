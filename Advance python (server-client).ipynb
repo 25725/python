{
 "cells": [
  {
   "cell_type": "code",
   "execution_count": 20,
   "metadata": {},
   "outputs": [],
   "source": [
    "import socket"
   ]
  },
  {
   "cell_type": "code",
   "execution_count": 23,
   "metadata": {},
   "outputs": [
    {
     "name": "stdout",
     "output_type": "stream",
     "text": [
      "The server socket is created\n",
      "Server is waiting for the client to get connected\n",
      "<socket.socket fd=1228, family=AddressFamily.AF_INET, type=SocketKind.SOCK_STREAM, proto=0, laddr=('127.0.0.1', 12345), raddr=('127.0.0.1', 51431)>\n",
      "('127.0.0.1', 51431)\n",
      "['GET / HTTP/1.1\\r', 'Host: localhost:12345\\r', 'Connection: keep-alive\\r', 'Cache-Control: max-age=0\\r', 'Upgrade-Insecure-Requests: 1\\r', 'User-Agent: Mozilla/5.0 (Windows NT 10.0; Win64; x64) AppleWebKit/537.36 (KHTML, like Gecko) Chrome/74.0.3729.169 Safari/537.36\\r', 'Accept: text/html,application/xhtml+xml,application/xml;q=0.9,image/webp,image/apng,*/*;q=0.8,application/signed-exchange;v=b3\\r', 'Accept-Encoding: gzip, deflate, br\\r', 'Accept-Language: en-US,en;q=0.9\\r', 'Cookie: _xsrf=2|8ae2a432|919ec9a3260084e6898e99916f44c836|1560155890; username-localhost-8888=\"2|1:0|10:1561536932|23:username-localhost-8888|44:MGNkZmI4Zjk4MmI4NGZmY2I5NzRlMWFlZjQ3ZWE0ZTI=|3ca84da67e2e523f58a9d28f46bb072fd3401eef8f4283e2b16b46fc613ef695\"\\r', '\\r', '']\n"
     ]
    }
   ],
   "source": [
    "server_socket=socket.socket(socket.AF_INET,socket.SOCK_STREAM)\n",
    "print(\"The server socket is created\")\n",
    "host=\"127.0.0.1\"\n",
    "port=12345\n",
    "server_socket.bind((host,port))\n",
    "server_socket.listen()\n",
    "print(\"Server is waiting for the client to get connected\")\n",
    "client_socket,client_addr=server_socket.accept()\n",
    "print(client_socket)\n",
    "print(client_addr)\n",
    "data=client_socket.recv(1024).decode().split(\"\\n\")\n",
    "print(data)\n",
    "\n"
   ]
  },
  {
   "cell_type": "code",
   "execution_count": 24,
   "metadata": {},
   "outputs": [
    {
     "data": {
      "text/plain": [
       "'/'"
      ]
     },
     "execution_count": 24,
     "metadata": {},
     "output_type": "execute_result"
    }
   ],
   "source": [
    "data[0].split()[1]"
   ]
  },
  {
   "cell_type": "code",
   "execution_count": 26,
   "metadata": {},
   "outputs": [],
   "source": [
    "import sqlite3 as sq\n"
   ]
  },
  {
   "cell_type": "code",
   "execution_count": null,
   "metadata": {},
   "outputs": [],
   "source": [
    "sq."
   ]
  }
 ],
 "metadata": {
  "kernelspec": {
   "display_name": "Python 3",
   "language": "python",
   "name": "python3"
  }
 },
 "nbformat": 4,
 "nbformat_minor": 2
}
