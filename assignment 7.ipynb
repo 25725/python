{
 "cells": [
  {
   "cell_type": "code",
   "execution_count": 1,
   "metadata": {},
   "outputs": [
    {
     "name": "stdout",
     "output_type": "stream",
     "text": [
      "Enter a number 3\n",
      "Enter a number5\n"
     ]
    },
    {
     "data": {
      "text/plain": [
       "5"
      ]
     },
     "execution_count": 1,
     "metadata": {},
     "output_type": "execute_result"
    }
   ],
   "source": [
    "max(int(input(\"Enter a number \")),int(input(\"Enter a number\")))"
   ]
  },
  {
   "cell_type": "code",
   "execution_count": 3,
   "metadata": {},
   "outputs": [
    {
     "name": "stdout",
     "output_type": "stream",
     "text": [
      "Enter a number55\n",
      "number is divisible\n"
     ]
    }
   ],
   "source": [
    "a=int(input(\"Enter a number\"))\n",
    "if (a%5)==0 and (a%11)==0:\n",
    "    print(\"number is divisible\")\n",
    "else:\n",
    "    print(\"not divisible\")"
   ]
  },
  {
   "cell_type": "code",
   "execution_count": 1,
   "metadata": {},
   "outputs": [
    {
     "name": "stdout",
     "output_type": "stream",
     "text": [
      "enter a number5\n",
      "5 is positive\n"
     ]
    }
   ],
   "source": [
    "\n",
    "a=int(input(\"enter a number\"))\n",
    "if a>0:\n",
    "    print(f\"{a} is positive\")\n",
    "elif a<0:\n",
    "    print(f\"{a} is negative\")\n",
    "else:\n",
    "    print(f\"{a} is zero\")"
   ]
  },
  {
   "cell_type": "code",
   "execution_count": 2,
   "metadata": {},
   "outputs": [
    {
     "name": "stdout",
     "output_type": "stream",
     "text": [
      "Enter a number3\n",
      "odd\n"
     ]
    }
   ],
   "source": [
    "if(int(input(\"Enter a number\")))%2:\n",
    "    print(\"odd\")\n",
    "else:\n",
    "    print(\"Even\")"
   ]
  },
  {
   "cell_type": "code",
   "execution_count": 3,
   "metadata": {},
   "outputs": [
    {
     "name": "stdout",
     "output_type": "stream",
     "text": [
      "Enter a number2019\n",
      "Leap year\n"
     ]
    }
   ],
   "source": [
    "a=int(input(\"Enter a number\"))\n",
    "if a%4==0 and a%400==0 and a%100!=0:\n",
    "    print(\"Not a leap year\")\n",
    "else:\n",
    "    print(\"Leap year\")"
   ]
  },
  {
   "cell_type": "code",
   "execution_count": 4,
   "metadata": {},
   "outputs": [
    {
     "name": "stdout",
     "output_type": "stream",
     "text": [
      "Enter a numbera\n",
      "Alphabet\n"
     ]
    }
   ],
   "source": [
    "if(input(\"Enter a number\")).isalpha():\n",
    "    print(\"Alphabet\")\n",
    "else:\n",
    "    print(\"Not\")"
   ]
  },
  {
   "cell_type": "code",
   "execution_count": 5,
   "metadata": {},
   "outputs": [
    {
     "name": "stdout",
     "output_type": "stream",
     "text": [
      "entere\n",
      "Vowels\n"
     ]
    }
   ],
   "source": [
    "a=input(\"enter\").lower()\n",
    "if a==\"a\"  or a==\"e\"  or a==\"i\"  or a==\"o\" or a==\"u\" :\n",
    "    print(\"Vowels\")\n",
    "else:\n",
    "    print(\"consonent\")"
   ]
  },
  {
   "cell_type": "code",
   "execution_count": 6,
   "metadata": {},
   "outputs": [
    {
     "name": "stdout",
     "output_type": "stream",
     "text": [
      "Enter a number%\n",
      "Special Character\n"
     ]
    }
   ],
   "source": [
    "a=input(\"Enter a number\")\n",
    "if a.isalpha():\n",
    "    print(\"Alphabet\")\n",
    "elif a.isdigit():\n",
    "    print(\"Digit\")\n",
    "else:\n",
    "    print(\"Special Character\")"
   ]
  },
  {
   "cell_type": "code",
   "execution_count": 7,
   "metadata": {},
   "outputs": [
    {
     "name": "stdout",
     "output_type": "stream",
     "text": [
      "Enter a numberishank\n",
      "Lowercase\n"
     ]
    }
   ],
   "source": [
    "if(input(\"Enter a number\")).isupper():\n",
    "    print(\"Uppercase\")\n",
    "else:\n",
    "    print(\"Lowercase\")"
   ]
  },
  {
   "cell_type": "code",
   "execution_count": 8,
   "metadata": {},
   "outputs": [
    {
     "name": "stdout",
     "output_type": "stream",
     "text": [
      "enter week number3\n",
      "Wednesday\n"
     ]
    }
   ],
   "source": [
    "a=int(input(\"enter week number\"))\n",
    "if a==1:\n",
    "    print(\"Monday\")\n",
    "elif a==2:\n",
    "    print(\"Tuesday\")\n",
    "elif a==3:\n",
    "    print(\"Wednesday\")\n",
    "elif a==4:\n",
    "    print(\"Thursday\")\n",
    "elif a==5:\n",
    "    print(\"Friday\")\n",
    "elif a==6:\n",
    "    print(\"Saturday\")\n",
    "elif a==7:\n",
    "    print(\"Sunday\")\n",
    "else:\n",
    "    print(\"Invalid week number\")"
   ]
  },
  {
   "cell_type": "code",
   "execution_count": 9,
   "metadata": {},
   "outputs": [
    {
     "name": "stdout",
     "output_type": "stream",
     "text": [
      "enter month number2\n",
      "28/29 Days\n"
     ]
    }
   ],
   "source": [
    "a=int(input(\"enter month number\"))\n",
    "if a==1 or a==3 or a==5 or a==7 or a==8 or a==10 or a==12:\n",
    "    print(\" 31 Days \")\n",
    "elif a==2:\n",
    "    print(\"28/29 Days\")\n",
    "elif a==4 or a==6 or a==9 or a==11:\n",
    "    print(\"30 days\")\n",
    "else:\n",
    "    print(\"Invalid month number\")"
   ]
  },
  {
   "cell_type": "code",
   "execution_count": 10,
   "metadata": {},
   "outputs": [
    {
     "name": "stdout",
     "output_type": "stream",
     "text": [
      "1st angle24\n",
      "2st angle78\n",
      "3st angle90\n",
      "Triangle is not valid\n"
     ]
    }
   ],
   "source": [
    "a=int(input(\"1st angle\"))\n",
    "b=int(input(\"2st angle\"))\n",
    "c=int(input(\"3st angle\"))\n",
    "if a+b+c==180:\n",
    "    print(\"Triangle is valid\")\n",
    "else:\n",
    "    print(\"Triangle is not valid\")"
   ]
  },
  {
   "cell_type": "code",
   "execution_count": 11,
   "metadata": {},
   "outputs": [
    {
     "name": "stdout",
     "output_type": "stream",
     "text": [
      "1st side24\n",
      "2st side54\n",
      "3st side12\n",
      "Triangle is not valid\n"
     ]
    }
   ],
   "source": [
    "a=int(input(\"1st side\"))\n",
    "b=int(input(\"2st side\"))\n",
    "c=int(input(\"3st side\"))\n",
    "if a+b>c and b+c>a and c+a>b:\n",
    "    print(\"Triangle is valid\")\n",
    "else:\n",
    "    print(\"Triangle is not valid\")"
   ]
  },
  {
   "cell_type": "code",
   "execution_count": 12,
   "metadata": {},
   "outputs": [
    {
     "name": "stdout",
     "output_type": "stream",
     "text": [
      "1st side12\n",
      "2st side12\n",
      "3st side12\n",
      "Equivalent triangle\n"
     ]
    }
   ],
   "source": [
    "a=int(input(\"1st side\"))\n",
    "b=int(input(\"2st side\"))\n",
    "c=int(input(\"3st side\"))\n",
    "if a!=b and a!=c and b!=c:\n",
    "    print(\"Scalene triangle\")\n",
    "elif a==b!=c or a==c!=b or b==c!=a:\n",
    "    print(\"isosceles triangle\")\n",
    "elif a==b==c:\n",
    "    print(\"Equivalent triangle\")"
   ]
  },
  {
   "cell_type": "code",
   "execution_count": null,
   "metadata": {},
   "outputs": [],
   "source": []
  }
 ],
 "metadata": {
  "kernelspec": {
   "display_name": "Python 3",
   "language": "python",
   "name": "python3"
  },
  "language_info": {
   "codemirror_mode": {
    "name": "ipython",
    "version": 3
   },
   "file_extension": ".py",
   "mimetype": "text/x-python",
   "name": "python",
   "nbconvert_exporter": "python",
   "pygments_lexer": "ipython3",
   "version": "3.7.3"
  }
 },
 "nbformat": 4,
 "nbformat_minor": 2
}
