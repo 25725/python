{
 "cells": [
  {
   "cell_type": "code",
   "execution_count": 1,
   "metadata": {},
   "outputs": [
    {
     "name": "stdout",
     "output_type": "stream",
     "text": [
      "Hello world!\n"
     ]
    }
   ],
   "source": [
    "print(\"Hello world!\")"
   ]
  },
  {
   "cell_type": "code",
   "execution_count": 3,
   "metadata": {},
   "outputs": [
    {
     "name": "stdout",
     "output_type": "stream",
     "text": [
      "Enter first number16\n",
      "Enter second number3\n",
      "19\n"
     ]
    }
   ],
   "source": [
    "print(int(input(\"Enter first number\"))+int(input(\"Enter second number\")))"
   ]
  },
  {
   "cell_type": "code",
   "execution_count": 15,
   "metadata": {},
   "outputs": [
    {
     "name": "stdout",
     "output_type": "stream",
     "text": [
      "Enter any number89\n",
      "9.433981132056603\n"
     ]
    }
   ],
   "source": [
    "print(pow(int(input(\"Enter any number\")),0.5))"
   ]
  },
  {
   "cell_type": "code",
   "execution_count": 17,
   "metadata": {},
   "outputs": [
    {
     "name": "stdout",
     "output_type": "stream",
     "text": [
      "Area of triangle\n",
      "Enter base2\n",
      "Enter height6\n",
      "6.0\n"
     ]
    }
   ],
   "source": [
    "#Area of triangle\n",
    "print(\"Area of triangle\")\n",
    "print(0.5*int(input(\"Enter base\"))*int(input(\"Enter height\")))"
   ]
  },
  {
   "cell_type": "code",
   "execution_count": 1,
   "metadata": {},
   "outputs": [
    {
     "name": "stdout",
     "output_type": "stream",
     "text": [
      "Enter first number3\n",
      "Enter second number5\n",
      "a=5 and b=3\n"
     ]
    }
   ],
   "source": [
    "a=int(input(\"Enter first number\"))\n",
    "b=int(input(\"Enter second number\"))\n",
    "c=a\n",
    "a=b\n",
    "b=c\n",
    "print(f\"a={a} and b={b}\")"
   ]
  },
  {
   "cell_type": "code",
   "execution_count": 7,
   "metadata": {},
   "outputs": [
    {
     "name": "stdout",
     "output_type": "stream",
     "text": [
      "23\n"
     ]
    }
   ],
   "source": [
    "from random import randint\n",
    "print(randint(20,25))"
   ]
  },
  {
   "cell_type": "code",
   "execution_count": 9,
   "metadata": {},
   "outputs": [
    {
     "name": "stdout",
     "output_type": "stream",
     "text": [
      "Enter kilometers5\n",
      "Equivalent miles is: \n",
      "3.105\n"
     ]
    }
   ],
   "source": [
    "#kilometers to miles\n",
    "km=float(input(\"Enter kilometers\"))\n",
    "print(\"Equivalent miles is: \")\n",
    "print(0.621*km)"
   ]
  },
  {
   "cell_type": "code",
   "execution_count": 11,
   "metadata": {},
   "outputs": [
    {
     "name": "stdout",
     "output_type": "stream",
     "text": [
      "Enter temperature in celsius32\n",
      "Equivalent temperature in fahrenhite:\n"
     ]
    },
    {
     "data": {
      "text/plain": [
       "89.6"
      ]
     },
     "execution_count": 11,
     "metadata": {},
     "output_type": "execute_result"
    }
   ],
   "source": [
    "#celsius to fahrenhite\n",
    "cel=float(input(\"Enter temperature in celsius\"))\n",
    "print(\"Equivalent temperature in fahrenhite:\")\n",
    "eval(f\"9/5*{cel}+32\")"
   ]
  },
  {
   "cell_type": "code",
   "execution_count": 14,
   "metadata": {},
   "outputs": [
    {
     "name": "stdout",
     "output_type": "stream",
     "text": [
      "Enter a number0\n",
      "Number is zero\n"
     ]
    }
   ],
   "source": [
    "a=int(input(\"Enter a number\"))\n",
    "if a>0:\n",
    "    print(\"Number is positive\")\n",
    "elif a<0:\n",
    "    print(\"Number is negative\")\n",
    "else:\n",
    "    print(\"Number is zero\")"
   ]
  },
  {
   "cell_type": "code",
   "execution_count": 16,
   "metadata": {},
   "outputs": [
    {
     "name": "stdout",
     "output_type": "stream",
     "text": [
      "Enter a number7\n",
      "odd\n"
     ]
    }
   ],
   "source": [
    "if int(input(\"Enter a number\"))%2==0:\n",
    "    print(\"even\")\n",
    "else:\n",
    "    print(\"odd\")"
   ]
  },
  {
   "cell_type": "code",
   "execution_count": 19,
   "metadata": {},
   "outputs": [
    {
     "name": "stdout",
     "output_type": "stream",
     "text": [
      "Enter a year2020\n",
      "leap year\n"
     ]
    }
   ],
   "source": [
    "a=int(input(\"Enter a year\"))\n",
    "if a%400==0 or a%4==0 and a%100!=0:\n",
    "    print(\"leap year\")\n",
    "else:\n",
    "    print(\"not a leap year\")"
   ]
  },
  {
   "cell_type": "code",
   "execution_count": 20,
   "metadata": {},
   "outputs": [
    {
     "name": "stdout",
     "output_type": "stream",
     "text": [
      "Enter first number3\n",
      "Enter second number7\n",
      "Enter third number1\n"
     ]
    },
    {
     "data": {
      "text/plain": [
       "7"
      ]
     },
     "execution_count": 20,
     "metadata": {},
     "output_type": "execute_result"
    }
   ],
   "source": [
    "max(int(input(\"Enter first number\")),int(input(\"Enter second number\")),int(input(\"Enter third number\")))"
   ]
  },
  {
   "cell_type": "code",
   "execution_count": 26,
   "metadata": {},
   "outputs": [
    {
     "name": "stdout",
     "output_type": "stream",
     "text": [
      "Enter a number9\n",
      "prime number\n"
     ]
    }
   ],
   "source": [
    "a=int(input(\"Enter a number\"))\n",
    "if a%a==0 and a%1==0:\n",
    "    print(\"prime number\")\n",
    "else:\n",
    "    print(\"not a prime number\")"
   ]
  },
  {
   "cell_type": "code",
   "execution_count": 7,
   "metadata": {},
   "outputs": [
    {
     "name": "stdout",
     "output_type": "stream",
     "text": [
      "Enter a number59\n",
      "prime\n"
     ]
    }
   ],
   "source": [
    "#prime number\n",
    "a=int(input(\"Enter a number\"))\n",
    "f=0\n",
    "if a>2:\n",
    "    for var in range(2,a):\n",
    "        if a%var==0:\n",
    "            f=1\n",
    "            break            \n",
    "if f==0:\n",
    "    print(\"prime\")\n",
    "else:\n",
    "    print(\"not prime\")"
   ]
  },
  {
   "cell_type": "code",
   "execution_count": null,
   "metadata": {},
   "outputs": [],
   "source": []
  },
  {
   "cell_type": "code",
   "execution_count": null,
   "metadata": {},
   "outputs": [],
   "source": []
  }
 ],
 "metadata": {
  "kernelspec": {
   "display_name": "Python 3",
   "language": "python",
   "name": "python3"
  },
  "language_info": {
   "codemirror_mode": {
    "name": "ipython",
    "version": 3
   },
   "file_extension": ".py",
   "mimetype": "text/x-python",
   "name": "python",
   "nbconvert_exporter": "python",
   "pygments_lexer": "ipython3",
   "version": "3.7.3"
  }
 },
 "nbformat": 4,
 "nbformat_minor": 2
}
