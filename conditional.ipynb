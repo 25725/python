{
 "cells": [
  {
   "cell_type": "code",
   "execution_count": 1,
   "metadata": {},
   "outputs": [
    {
     "name": "stdout",
     "output_type": "stream",
     "text": [
      "abc\n",
      "outer part\n"
     ]
    }
   ],
   "source": [
    "a=5\n",
    "if a==5:\n",
    "    print(\"abc\")\n",
    "print(\"outer part\")    "
   ]
  },
  {
   "cell_type": "code",
   "execution_count": 2,
   "metadata": {},
   "outputs": [
    {
     "name": "stdout",
     "output_type": "stream",
     "text": [
      "outer part\n"
     ]
    }
   ],
   "source": [
    "a=6\n",
    "if a==7:\n",
    "    print(\"abc\")\n",
    "print(\"outer part\")    "
   ]
  },
  {
   "cell_type": "code",
   "execution_count": 3,
   "metadata": {},
   "outputs": [
    {
     "name": "stdout",
     "output_type": "stream",
     "text": [
      "hello\n",
      "abd\n"
     ]
    }
   ],
   "source": [
    "if a:\n",
    "    print(\"hello\")\n",
    "print(\"abd\")    "
   ]
  },
  {
   "cell_type": "code",
   "execution_count": 4,
   "metadata": {},
   "outputs": [
    {
     "name": "stdout",
     "output_type": "stream",
     "text": [
      "abd\n"
     ]
    }
   ],
   "source": [
    "if 0:\n",
    "    print(\"abg\")\n",
    "print(\"abd\")    "
   ]
  },
  {
   "cell_type": "code",
   "execution_count": 5,
   "metadata": {},
   "outputs": [
    {
     "name": "stdout",
     "output_type": "stream",
     "text": [
      "value of a is not 5\n"
     ]
    }
   ],
   "source": [
    "if a==5:\n",
    "    print(\"value of a =5\")\n",
    "else:\n",
    "    print(\"value of a is not 5\")\n"
   ]
  },
  {
   "cell_type": "code",
   "execution_count": 7,
   "metadata": {},
   "outputs": [
    {
     "name": "stdout",
     "output_type": "stream",
     "text": [
      "enter a number2\n",
      "2 is even\n"
     ]
    }
   ],
   "source": [
    "a=int(input(\"enter a number\"))\n",
    "if a%2==0:\n",
    "    print(f\"{a} is even\")\n",
    "else:\n",
    "    print(\"a is odd\")"
   ]
  },
  {
   "cell_type": "code",
   "execution_count": 8,
   "metadata": {},
   "outputs": [
    {
     "name": "stdout",
     "output_type": "stream",
     "text": [
      "neter a number5\n",
      "odd\n"
     ]
    }
   ],
   "source": [
    "if int(input(\"neter a number\"))%2:\n",
    "    print(\"odd\")\n",
    "else:\n",
    "    print(\"even\")"
   ]
  },
  {
   "cell_type": "code",
   "execution_count": 9,
   "metadata": {},
   "outputs": [
    {
     "name": "stdout",
     "output_type": "stream",
     "text": [
      "enter a number4\n",
      "even\n"
     ]
    }
   ],
   "source": [
    "if int(input(\"enter a number\"))%2:print(\"odd\")\n",
    "else:print(\"even\")    "
   ]
  },
  {
   "cell_type": "code",
   "execution_count": 10,
   "metadata": {},
   "outputs": [
    {
     "name": "stdout",
     "output_type": "stream",
     "text": [
      "enter a number6\n",
      "even\n"
     ]
    }
   ],
   "source": [
    "print(\"odd\" if int(input(\"enter a number\"))%2 else \"even\")"
   ]
  },
  {
   "cell_type": "code",
   "execution_count": 13,
   "metadata": {},
   "outputs": [
    {
     "name": "stdout",
     "output_type": "stream",
     "text": [
      "enter a number3\n",
      "enter a number4\n",
      "enter a number5\n",
      "5 is greatest\n"
     ]
    }
   ],
   "source": [
    "a=int(input(\"enter a number\"))\n",
    "b=int(input(\"enter a number\"))\n",
    "c=int(input(\"enter a number\"))\n",
    "if a>b:\n",
    "    if a>c:\n",
    "        print(f\"{a} is greatest\")\n",
    "else:\n",
    "    if b>c:\n",
    "        print(f\"{b} is greatest\")\n",
    "    else:\n",
    "        print(f\"{c} is greatest\")"
   ]
  },
  {
   "cell_type": "code",
   "execution_count": 15,
   "metadata": {},
   "outputs": [
    {
     "name": "stdout",
     "output_type": "stream",
     "text": [
      "enter3\n",
      "enter2\n",
      "enter6\n",
      "6 is greatest\n"
     ]
    }
   ],
   "source": [
    "a=int(input(\"enter\"))\n",
    "b=int(input(\"enter\"))\n",
    "c=int(input(\"enter\"))\n",
    "\n",
    "\n",
    "if a>b and a>c:\n",
    "    print(f\"{a} is greatest\")\n",
    "elif b>c and b>a:\n",
    "    print(f\"{b} is greatest\")\n",
    "elif c>a and c>b:\n",
    "    print(f\"{c} is greatest\")\n",
    "else:\n",
    "    print(\"All are same\")"
   ]
  },
  {
   "cell_type": "code",
   "execution_count": 19,
   "metadata": {},
   "outputs": [
    {
     "name": "stdout",
     "output_type": "stream",
     "text": [
      "enter-9\n",
      "-9 is negative\n"
     ]
    }
   ],
   "source": [
    "a=int(input(\"enter\"))\n",
    "if a<0:\n",
    "    print(f\"{a} is negative\")\n",
    "elif a>0:\n",
    "    print(f\"{a} is positive\")\n",
    "else:\n",
    "    print(f\"{a} is zero\")\n",
    "\n"
   ]
  },
  {
   "cell_type": "code",
   "execution_count": 20,
   "metadata": {},
   "outputs": [
    {
     "name": "stdout",
     "output_type": "stream",
     "text": [
      "enter4\n",
      "enter7\n",
      "enter9\n"
     ]
    },
    {
     "data": {
      "text/plain": [
       "9"
      ]
     },
     "execution_count": 20,
     "metadata": {},
     "output_type": "execute_result"
    }
   ],
   "source": [
    "a=int(input(\"enter\"))\n",
    "b=int(input(\"enter\"))\n",
    "c=int(input(\"enter\"))\n",
    "max(a,b,c)"
   ]
  },
  {
   "cell_type": "code",
   "execution_count": 21,
   "metadata": {},
   "outputs": [
    {
     "name": "stdout",
     "output_type": "stream",
     "text": [
      "enter3\n",
      "enter5\n",
      "enter2\n"
     ]
    },
    {
     "data": {
      "text/plain": [
       "5"
      ]
     },
     "execution_count": 21,
     "metadata": {},
     "output_type": "execute_result"
    }
   ],
   "source": [
    "max(int(input(\"enter\")),int(input(\"enter\")),int(input(\"enter\")))"
   ]
  },
  {
   "cell_type": "code",
   "execution_count": 3,
   "metadata": {},
   "outputs": [
    {
     "name": "stdout",
     "output_type": "stream",
     "text": [
      "Object `from` not found.\n"
     ]
    }
   ],
   "source": [
    "from?"
   ]
  },
  {
   "cell_type": "code",
   "execution_count": null,
   "metadata": {},
   "outputs": [],
   "source": [
    "from random import randint"
   ]
  },
  {
   "cell_type": "code",
   "execution_count": 23,
   "metadata": {},
   "outputs": [
    {
     "data": {
      "text/plain": [
       "10"
      ]
     },
     "execution_count": 23,
     "metadata": {},
     "output_type": "execute_result"
    }
   ],
   "source": [
    "randint(1,10)"
   ]
  },
  {
   "cell_type": "code",
   "execution_count": 4,
   "metadata": {},
   "outputs": [
    {
     "name": "stdout",
     "output_type": "stream",
     "text": [
      "Enter any number\n",
      "1.R\n",
      "2.P\n",
      "3.S\n",
      "1\n",
      "**computer wins**\n",
      "computer choice= 2\n"
     ]
    }
   ],
   "source": [
    "from time import sleep\n",
    "print(\"Enter any number\")\n",
    "p=int(input(\"1.R\\n2.P\\n3.S\\n\"))\n",
    "c=randint(1,3)\n",
    "sleep(1)\n",
    "if p==c:\n",
    "    print(\"Draw\")\n",
    "elif p==1 and c==3 or p==2 and c==1 or p==3 and c==2:\n",
    "    print(\"**player wins**\")\n",
    "    print(\"computer choice=\",c)\n",
    "else:\n",
    "    print(\"**computer wins**\")\n",
    "    print(\"computer choice=\",c)\n",
    "    "
   ]
  },
  {
   "cell_type": "code",
   "execution_count": 7,
   "metadata": {},
   "outputs": [
    {
     "name": "stdout",
     "output_type": "stream",
     "text": [
      "Enter foo|barBAR\n",
      "foo\n"
     ]
    }
   ],
   "source": [
    "a=input(\"Enter foo|bar\").lower().strip()\n",
    "if a==\"foo\":\n",
    "    print(\"bar\")\n",
    "elif a==\"bar\":\n",
    "    print(\"foo\")\n",
    "else:\n",
    "    print(\"enter only foo|bar\")\n",
    "    \n"
   ]
  },
  {
   "cell_type": "code",
   "execution_count": 2,
   "metadata": {},
   "outputs": [
    {
     "name": "stdout",
     "output_type": "stream",
     "text": [
      "Enter any number\n",
      "R\n",
      "P\n",
      "S\n",
      "r\n",
      "**player wins**\n",
      "computer choice= p\n"
     ]
    }
   ],
   "source": [
    "from random import choice\n",
    "from time import sleep\n",
    "print(\"Enter any number\")\n",
    "p=input(\"R\\nP\\nS\\n\").lower().strip()\n",
    "c=choice(\"rps\")\n",
    "sleep(1)\n",
    "if p==c:\n",
    "    print(\"Draw\")\n",
    "elif p==\"r\" and c==\"s\" or p==\"p\" and c==\"r\" or p==\"s\" and c==\"p\":\n",
    "    print(\"**player wins**\")\n",
    "    print(\"computer choice=\",c)\n",
    "else:\n",
    "    print(\"**computer wins**\")\n",
    "    print(\"computer choice=\",c)"
   ]
  },
  {
   "cell_type": "code",
   "execution_count": 6,
   "metadata": {},
   "outputs": [
    {
     "name": "stdout",
     "output_type": "stream",
     "text": [
      "enter a number121\n",
      "121 is palindrom\n"
     ]
    }
   ],
   "source": [
    "a=(input(\"enter a number\"))\n",
    "b=a[::-1]\n",
    "if a==b:\n",
    "    print(f\"{a} is palindrom\")\n",
    "else:\n",
    "    print(f\"{a} is not palindrome\")\n",
    "    "
   ]
  },
  {
   "cell_type": "code",
   "execution_count": 19,
   "metadata": {},
   "outputs": [
    {
     "name": "stdout",
     "output_type": "stream",
     "text": [
      "enter the stringishank\n",
      "2\n",
      "present\n"
     ]
    }
   ],
   "source": [
    "a=input(\"enter the string\")\n",
    "l=list(a)\n",
    "print(a.count(\"a\")+a.count(\"e\")+a.count(\"i\")+a.count(\"o\")+a.count(\"u\"))\n",
    "if 'a' in l or 'e' in l or 'i' in l or 'o' in l or 'u' in l:\n",
    "    print(\"present\")\n",
    "else:\n",
    "    print(\"not present\")\n",
    "    \n",
    "\n"
   ]
  },
  {
   "cell_type": "code",
   "execution_count": 12,
   "metadata": {},
   "outputs": [
    {
     "data": {
      "text/plain": [
       "['p', 'e', 'e', 'y', 'u', 's', 'h']"
      ]
     },
     "execution_count": 12,
     "metadata": {},
     "output_type": "execute_result"
    }
   ],
   "source": []
  },
  {
   "cell_type": "code",
   "execution_count": 16,
   "metadata": {},
   "outputs": [
    {
     "name": "stdout",
     "output_type": "stream",
     "text": [
      "enter the expression2+3*688/90\n"
     ]
    },
    {
     "data": {
      "text/plain": [
       "24.933333333333334"
      ]
     },
     "execution_count": 16,
     "metadata": {},
     "output_type": "execute_result"
    }
   ],
   "source": [
    "eval(input(\"enter the expression\"))\n"
   ]
  },
  {
   "cell_type": "code",
   "execution_count": 20,
   "metadata": {},
   "outputs": [],
   "source": [
    "eval?\n"
   ]
  },
  {
   "cell_type": "code",
   "execution_count": 21,
   "metadata": {},
   "outputs": [
    {
     "name": "stdout",
     "output_type": "stream",
     "text": [
      "hello\n"
     ]
    }
   ],
   "source": [
    "if a==5:\n",
    "    pass\n",
    "else:\n",
    "    print(\"hello\")"
   ]
  },
  {
   "cell_type": "code",
   "execution_count": 23,
   "metadata": {},
   "outputs": [
    {
     "name": "stdout",
     "output_type": "stream",
     "text": [
      "emter the number5\n"
     ]
    }
   ],
   "source": [
    "a=int(input(\"emter the number\"))\n",
    "if a==5:\n",
    "    pass\n",
    "else:\n",
    "    print(\"hello\")"
   ]
  },
  {
   "cell_type": "code",
   "execution_count": 24,
   "metadata": {},
   "outputs": [
    {
     "name": "stdout",
     "output_type": "stream",
     "text": [
      "hello world 0 times\n",
      "hello world 1 times\n",
      "hello world 2 times\n",
      "hello world 3 times\n",
      "hello world 4 times\n",
      "hello world 5 times\n",
      "hello world 6 times\n",
      "hello world 7 times\n",
      "hello world 8 times\n",
      "hello world 9 times\n"
     ]
    }
   ],
   "source": [
    "i=0\n",
    "while i<10:\n",
    "    print(f\"hello world {i} times\")\n",
    "    i+=1"
   ]
  },
  {
   "cell_type": "code",
   "execution_count": 25,
   "metadata": {},
   "outputs": [
    {
     "name": "stdout",
     "output_type": "stream",
     "text": [
      "enter a number5\n",
      "5*1=5\n",
      "5*2=10\n",
      "5*3=15\n",
      "5*4=20\n",
      "5*5=25\n",
      "5*6=30\n",
      "5*7=35\n",
      "5*8=40\n",
      "5*9=45\n",
      "5*10=50\n"
     ]
    }
   ],
   "source": [
    "n=int(input(\"enter a number\"))\n",
    "i=1\n",
    "while i<=10:\n",
    "    print(f\"{n}*{i}={n*i}\")\n",
    "    i+=1"
   ]
  },
  {
   "cell_type": "code",
   "execution_count": 29,
   "metadata": {},
   "outputs": [
    {
     "name": "stdout",
     "output_type": "stream",
     "text": [
      "*\n",
      "**\n",
      "***\n",
      "****\n",
      "*****\n"
     ]
    }
   ],
   "source": [
    "i=1\n",
    "while i<6:\n",
    "    print(\"*\"*i)\n",
    "    i+=1"
   ]
  },
  {
   "cell_type": "code",
   "execution_count": 4,
   "metadata": {},
   "outputs": [
    {
     "name": "stdout",
     "output_type": "stream",
     "text": [
      "1\n",
      "22\n",
      "333\n",
      "4444\n",
      "55555\n"
     ]
    }
   ],
   "source": [
    "i=1\n",
    "while i<6:\n",
    "    print(f\"{i}\"*i)\n",
    "    i+=1"
   ]
  },
  {
   "cell_type": "code",
   "execution_count": 31,
   "metadata": {},
   "outputs": [
    {
     "name": "stdout",
     "output_type": "stream",
     "text": [
      "1\n",
      "22\n",
      "333\n",
      "4444\n",
      "55555\n"
     ]
    }
   ],
   "source": [
    "i=1\n",
    "while i<6:\n",
    "    print(f\"{ i}\"*i)\n",
    "    i+=1"
   ]
  },
  {
   "cell_type": "code",
   "execution_count": 34,
   "metadata": {},
   "outputs": [
    {
     "name": "stdout",
     "output_type": "stream",
     "text": [
      "1\n",
      "2\n",
      "3\n",
      "4\n",
      "5\n",
      "6\n",
      "7\n",
      "8\n",
      "9\n",
      "0\n",
      "[1, 2, 3, 4, 5, 6, 7, 8, 9, 0]\n"
     ]
    }
   ],
   "source": [
    "l=[]\n",
    "i=0\n",
    "while i<10:\n",
    "    l.append(int(input()))\n",
    "    i+=1\n",
    "print(l)"
   ]
  },
  {
   "cell_type": "code",
   "execution_count": 35,
   "metadata": {},
   "outputs": [],
   "source": [
    "l1=list(range(0,10))"
   ]
  },
  {
   "cell_type": "code",
   "execution_count": 36,
   "metadata": {},
   "outputs": [
    {
     "data": {
      "text/plain": [
       "[0, 1, 2, 3, 4, 5, 6, 7, 8, 9]"
      ]
     },
     "execution_count": 36,
     "metadata": {},
     "output_type": "execute_result"
    }
   ],
   "source": [
    "l1\n"
   ]
  },
  {
   "cell_type": "code",
   "execution_count": 37,
   "metadata": {},
   "outputs": [],
   "source": [
    "range?"
   ]
  },
  {
   "cell_type": "code",
   "execution_count": 38,
   "metadata": {},
   "outputs": [],
   "source": [
    "l2=list(range(0,101,2))"
   ]
  },
  {
   "cell_type": "code",
   "execution_count": 39,
   "metadata": {},
   "outputs": [
    {
     "data": {
      "text/plain": [
       "[0,\n",
       " 2,\n",
       " 4,\n",
       " 6,\n",
       " 8,\n",
       " 10,\n",
       " 12,\n",
       " 14,\n",
       " 16,\n",
       " 18,\n",
       " 20,\n",
       " 22,\n",
       " 24,\n",
       " 26,\n",
       " 28,\n",
       " 30,\n",
       " 32,\n",
       " 34,\n",
       " 36,\n",
       " 38,\n",
       " 40,\n",
       " 42,\n",
       " 44,\n",
       " 46,\n",
       " 48,\n",
       " 50,\n",
       " 52,\n",
       " 54,\n",
       " 56,\n",
       " 58,\n",
       " 60,\n",
       " 62,\n",
       " 64,\n",
       " 66,\n",
       " 68,\n",
       " 70,\n",
       " 72,\n",
       " 74,\n",
       " 76,\n",
       " 78,\n",
       " 80,\n",
       " 82,\n",
       " 84,\n",
       " 86,\n",
       " 88,\n",
       " 90,\n",
       " 92,\n",
       " 94,\n",
       " 96,\n",
       " 98,\n",
       " 100]"
      ]
     },
     "execution_count": 39,
     "metadata": {},
     "output_type": "execute_result"
    }
   ],
   "source": [
    "l2"
   ]
  },
  {
   "cell_type": "code",
   "execution_count": 40,
   "metadata": {},
   "outputs": [
    {
     "name": "stdout",
     "output_type": "stream",
     "text": [
      "[0, 2, 4, 6, 8, 10, 12, 14, 16, 18, 20, 22, 24, 26, 28, 30, 32, 34, 36, 38, 40, 42, 44, 46, 48, 50, 52, 54, 56, 58, 60, 62, 64, 66, 68, 70, 72, 74, 76, 78, 80, 82, 84, 86, 88, 90, 92, 94, 96, 98, 100]\n"
     ]
    }
   ],
   "source": [
    "print(l2)"
   ]
  },
  {
   "cell_type": "code",
   "execution_count": 1,
   "metadata": {},
   "outputs": [
    {
     "ename": "NameError",
     "evalue": "name 'l2' is not defined",
     "output_type": "error",
     "traceback": [
      "\u001b[1;31m---------------------------------------------------------------------------\u001b[0m",
      "\u001b[1;31mNameError\u001b[0m                                 Traceback (most recent call last)",
      "\u001b[1;32m<ipython-input-1-fe0e377ca3f8>\u001b[0m in \u001b[0;36m<module>\u001b[1;34m\u001b[0m\n\u001b[1;32m----> 1\u001b[1;33m \u001b[0mprint\u001b[0m\u001b[1;33m(\u001b[0m\u001b[0ml2\u001b[0m\u001b[1;33m)\u001b[0m\u001b[1;33m\u001b[0m\u001b[1;33m\u001b[0m\u001b[0m\n\u001b[0m",
      "\u001b[1;31mNameError\u001b[0m: name 'l2' is not defined"
     ]
    }
   ],
   "source": [
    "print(l2)\n"
   ]
  },
  {
   "cell_type": "code",
   "execution_count": 5,
   "metadata": {},
   "outputs": [
    {
     "name": "stdout",
     "output_type": "stream",
     "text": [
      "Choose truth or dare\n",
      "1.Truth\n",
      "2.Dare\n",
      "3.Nochoice\n",
      "2\n",
      "You opted for dare\n",
      "You have to do prank with your friend\n",
      "OK\n",
      "game finished\n"
     ]
    }
   ],
   "source": [
    "from time import sleep\n",
    "print(\"Choose truth or dare\")\n",
    "p=int(input(\"1.Truth\\n2.Dare\\n3.Nochoice\\n\"))\n",
    "sleep(5)\n",
    "if p==1:\n",
    "    print(\"You opted for truth\")\n",
    "    print(\"What is your secret?\")\n",
    "    print(\"NO SECRETS\")\n",
    "    print(\"game finished\")\n",
    "elif p==2:\n",
    "    print(\"You opted for dare\")\n",
    "    print(\"You have to do prank with your friend\")\n",
    "    print(\"OK\")\n",
    "    print(\"game finished\")\n",
    "else:\n",
    "    print(\"you have not chosen either truth or dare\")\n",
    "    print(\"game finished\")\n",
    "\n"
   ]
  },
  {
   "cell_type": "code",
   "execution_count": 6,
   "metadata": {},
   "outputs": [
    {
     "name": "stdout",
     "output_type": "stream",
     "text": [
      "enter players name seperated by ' ' :-vinod aditya\n",
      "vinod is playing\n",
      "Chose one:-\n",
      "1.truth\n",
      "2.dare1\n",
      "your question is whats your age\n"
     ]
    }
   ],
   "source": [
    "\n",
    "from random import randint\n",
    "t=['what is your name','whats your age','whats your class','have you been to america','have you ever cheated someone']\n",
    "d=['make coffee','make tea','make maggi','clean the room','wash my car']\n",
    "n=input(\"enter players name seperated by ' ' :-\").split()\n",
    "name=n[randint(0,len(n)-1)]\n",
    "print(f\"{name} is playing\")\n",
    "chose=int(input(\"Chose one:-\\n1.truth\\n2.dare\"))\n",
    "if chose==1:\n",
    "    truth=t[randint(0,4)]\n",
    "    print(\"your question is\",truth)\n",
    "elif chose==2:\n",
    "    dare=d[randint(0,4)]\n",
    "    print(\"your dare is to\",dare)\n",
    "else:\n",
    "    print(\"choose only 1 or 2\")\n"
   ]
  },
  {
   "cell_type": "code",
   "execution_count": null,
   "metadata": {},
   "outputs": [],
   "source": []
  },
  {
   "cell_type": "code",
   "execution_count": null,
   "metadata": {},
   "outputs": [],
   "source": []
  }
 ],
 "metadata": {
  "kernelspec": {
   "display_name": "Python 3",
   "language": "python",
   "name": "python3"
  },
  "language_info": {
   "codemirror_mode": {
    "name": "ipython",
    "version": 3
   },
   "file_extension": ".py",
   "mimetype": "text/x-python",
   "name": "python",
   "nbconvert_exporter": "python",
   "pygments_lexer": "ipython3",
   "version": "3.7.3"
  }
 },
 "nbformat": 4,
 "nbformat_minor": 2
}
